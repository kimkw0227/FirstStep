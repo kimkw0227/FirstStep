{
 "cells": [
  {
   "cell_type": "code",
   "execution_count": 274,
   "outputs": [],
   "source": [
    "from keras.layers import Input,Dense\n",
    "from keras.models import Model,Sequential\n",
    "from keras import regularizers\n",
    "from sklearn.model_selection import train_test_split\n",
    "from sklearn.linear_model import LogisticRegression\n",
    "from sklearn.linear_model import LinearRegression\n",
    "from sklearn.metrics import classification_report, accuracy_score\n",
    "from sklearn.manifold import TSNE\n",
    "from keras import losses\n",
    "from sklearn import preprocessing\n",
    "import matplotlib.pyplot as plt\n",
    "import pandas as pd\n",
    "import numpy as np\n",
    "import seaborn as sns\n",
    "sns.set(style=\"whitegrid\")\n",
    "np.random.seed(203)"
   ],
   "metadata": {
    "collapsed": false,
    "pycharm": {
     "name": "#%%\n",
     "is_executing": false
    }
   }
  },
  {
   "cell_type": "code",
   "execution_count": 275,
   "outputs": [
    {
     "data": {
      "text/plain": "   Class  Timestamp  IPVal  IPs  Domains  Hashes  Filesize\n0      1          0  12398    8       10      12     52.18\n1      2          1  66661    1       11      21     60.43\n2      3          2  91231    1        5      10    102.11\n3      1          3  29999    3       32       1    368.77\n4      2          4  33333   12       56       1     11.88",
      "text/html": "<div>\n<style scoped>\n    .dataframe tbody tr th:only-of-type {\n        vertical-align: middle;\n    }\n\n    .dataframe tbody tr th {\n        vertical-align: top;\n    }\n\n    .dataframe thead th {\n        text-align: right;\n    }\n</style>\n<table border=\"1\" class=\"dataframe\">\n  <thead>\n    <tr style=\"text-align: right;\">\n      <th></th>\n      <th>Class</th>\n      <th>Timestamp</th>\n      <th>IPVal</th>\n      <th>IPs</th>\n      <th>Domains</th>\n      <th>Hashes</th>\n      <th>Filesize</th>\n    </tr>\n  </thead>\n  <tbody>\n    <tr>\n      <th>0</th>\n      <td>1</td>\n      <td>0</td>\n      <td>12398</td>\n      <td>8</td>\n      <td>10</td>\n      <td>12</td>\n      <td>52.18</td>\n    </tr>\n    <tr>\n      <th>1</th>\n      <td>2</td>\n      <td>1</td>\n      <td>66661</td>\n      <td>1</td>\n      <td>11</td>\n      <td>21</td>\n      <td>60.43</td>\n    </tr>\n    <tr>\n      <th>2</th>\n      <td>3</td>\n      <td>2</td>\n      <td>91231</td>\n      <td>1</td>\n      <td>5</td>\n      <td>10</td>\n      <td>102.11</td>\n    </tr>\n    <tr>\n      <th>3</th>\n      <td>1</td>\n      <td>3</td>\n      <td>29999</td>\n      <td>3</td>\n      <td>32</td>\n      <td>1</td>\n      <td>368.77</td>\n    </tr>\n    <tr>\n      <th>4</th>\n      <td>2</td>\n      <td>4</td>\n      <td>33333</td>\n      <td>12</td>\n      <td>56</td>\n      <td>1</td>\n      <td>11.88</td>\n    </tr>\n  </tbody>\n</table>\n</div>"
     },
     "metadata": {},
     "output_type": "execute_result",
     "execution_count": 275
    }
   ],
   "source": [
    "data = pd.read_csv(\"../data/train_data\")\n",
    "data.head()"
   ],
   "metadata": {
    "collapsed": false,
    "pycharm": {
     "name": "#%%\n",
     "is_executing": false
    }
   }
  },
  {
   "cell_type": "code",
   "execution_count": 276,
   "outputs": [],
   "source": [
    "X = data.drop(['Class'], axis=1).values\n",
    "Y = data[\"Class\"].values"
   ],
   "metadata": {
    "collapsed": false,
    "pycharm": {
     "name": "#%%\n",
     "is_executing": false
    }
   }
  },
  {
   "cell_type": "code",
   "execution_count": 373,
   "outputs": [],
   "source": [
    "input_layer = Input(shape=(X.shape[1],))"
   ],
   "metadata": {
    "collapsed": false,
    "pycharm": {
     "name": "#%%\n",
     "is_executing": false
    }
   }
  },
  {
   "cell_type": "code",
   "execution_count": 374,
   "outputs": [],
   "source": [
    "#encoded = Dense(10, activation='relu',activity_regularizer=regularizers.l1(10e-8))(input_layer)\n",
    "#encoded = Dense(5, activation='relu')(encoded)\n",
    "encoded = Dense(64, activation='relu',\n",
    "                activity_regularizer=regularizers.l1(10e-9))(input_layer)"
   ],
   "metadata": {
    "collapsed": false,
    "pycharm": {
     "name": "#%%\n",
     "is_executing": false
    }
   }
  },
  {
   "cell_type": "code",
   "execution_count": 375,
   "outputs": [],
   "source": [
    "#decoded = Dense(5, activation='relu')(encoded)\n",
    "#decoded = Dense(10, activation='relu')(decoded)\n",
    "decoded = Dense(64, activation='relu')(encoded)"
   ],
   "metadata": {
    "collapsed": false,
    "pycharm": {
     "name": "#%%\n",
     "is_executing": false
    }
   }
  },
  {
   "cell_type": "code",
   "execution_count": 376,
   "outputs": [],
   "source": [
    "output_layer = Dense(X.shape[1], activation='relu')(decoded)\n",
    "#output_layer = Dense(X.shape[1], activation='sigmoid')(encoded)"
   ],
   "metadata": {
    "collapsed": false,
    "pycharm": {
     "name": "#%%\n",
     "is_executing": false
    }
   }
  },
  {
   "cell_type": "code",
   "execution_count": 377,
   "outputs": [],
   "source": [
    "autoencoder = Model(input_layer,output_layer)\n",
    "autoencoder.compile(optimizer=\"adadelta\",loss=losses.binary_crossentropy)"
   ],
   "metadata": {
    "collapsed": false,
    "pycharm": {
     "name": "#%%\n",
     "is_executing": false
    }
   }
  },
  {
   "cell_type": "code",
   "execution_count": 378,
   "outputs": [],
   "source": [
    "x = data.drop([\"Class\"], axis=1)\n",
    "y = data[\"Class\"].values\n",
    "\n",
    "x_scale = preprocessing.MinMaxScaler().fit_transform(x.values)\n",
    "x_1, x_2, x_3 = x_scale[y == 1], x_scale[y == 2], x_scale[y == 3]"
   ],
   "metadata": {
    "collapsed": false,
    "pycharm": {
     "name": "#%%\n",
     "is_executing": false
    }
   }
  },
  {
   "cell_type": "code",
   "execution_count": 379,
   "outputs": [
    {
     "name": "stdout",
     "text": [
      "Train on 28 samples, validate on 7 samples\nEpoch 1/50\n",
      "\r28/28 [==============================] - 1s 48ms/step - loss: 3.6921 - val_loss: 3.3513\n",
      "Epoch 2/50\n\r28/28 [==============================] - 0s 214us/step - loss: 3.3513 - val_loss: 2.7494\n",
      "Epoch 3/50\n\r28/28 [==============================] - 0s 213us/step - loss: 2.7494 - val_loss: 2.7037\n",
      "Epoch 4/50\n\r28/28 [==============================] - 0s 214us/step - loss: 2.7037 - val_loss: 2.6851\n",
      "Epoch 5/50\n\r28/28 [==============================] - 0s 285us/step - loss: 2.6851 - val_loss: 2.6713\n",
      "Epoch 6/50\n\r28/28 [==============================] - 0s 214us/step - loss: 2.6713 - val_loss: 2.6600\n",
      "Epoch 7/50\n\r28/28 [==============================] - 0s 249us/step - loss: 2.6600 - val_loss: 2.6503\n",
      "Epoch 8/50\n\r28/28 [==============================] - 0s 249us/step - loss: 2.6503 - val_loss: 2.4463\n",
      "Epoch 9/50\n\r28/28 [==============================] - 0s 284us/step - loss: 2.4463 - val_loss: 2.0921\n",
      "Epoch 10/50\n\r28/28 [==============================] - 0s 285us/step - loss: 2.0921 - val_loss: 2.0737\n",
      "Epoch 11/50\n\r28/28 [==============================] - 0s 266us/step - loss: 2.0737 - val_loss: 2.0658\n",
      "Epoch 12/50\n\r28/28 [==============================] - 0s 246us/step - loss: 2.0658 - val_loss: 2.0592\n",
      "Epoch 13/50\n\r28/28 [==============================] - 0s 214us/step - loss: 2.0592 - val_loss: 2.0534\n",
      "Epoch 14/50\n\r28/28 [==============================] - 0s 214us/step - loss: 2.0534 - val_loss: 2.0481\n",
      "Epoch 15/50\n\r28/28 [==============================] - 0s 214us/step - loss: 2.0481 - val_loss: 2.0432\n",
      "Epoch 16/50\n\r28/28 [==============================] - 0s 214us/step - loss: 2.0432 - val_loss: 2.0386\n",
      "Epoch 17/50\n\r28/28 [==============================] - 0s 249us/step - loss: 2.0386 - val_loss: 2.0340\n",
      "Epoch 18/50\n\r28/28 [==============================] - 0s 214us/step - loss: 2.0340 - val_loss: 2.0292\n",
      "Epoch 19/50\n\r28/28 [==============================] - 0s 280us/step - loss: 2.0292 - val_loss: 2.0243\n",
      "Epoch 20/50\n\r28/28 [==============================] - 0s 249us/step - loss: 2.0243 - val_loss: 2.0198\n",
      "Epoch 21/50\n\r28/28 [==============================] - 0s 250us/step - loss: 2.0198 - val_loss: 2.0154\n",
      "Epoch 22/50\n\r28/28 [==============================] - 0s 214us/step - loss: 2.0154 - val_loss: 2.0113\n",
      "Epoch 23/50\n\r28/28 [==============================] - 0s 285us/step - loss: 2.0113 - val_loss: 2.0073\n",
      "Epoch 24/50\n",
      "\r28/28 [==============================] - 0s 249us/step - loss: 2.0073 - val_loss: 2.0036\n",
      "Epoch 25/50\n\r28/28 [==============================] - 0s 321us/step - loss: 2.0036 - val_loss: 1.9998\n",
      "Epoch 26/50\n\r28/28 [==============================] - 0s 305us/step - loss: 1.9998 - val_loss: 1.9961\n",
      "Epoch 27/50\n",
      "\r28/28 [==============================] - 0s 321us/step - loss: 1.9961 - val_loss: 1.9923\n",
      "Epoch 28/50\n\r28/28 [==============================] - 0s 286us/step - loss: 1.9923 - val_loss: 1.9887\n",
      "Epoch 29/50\n\r28/28 [==============================] - 0s 321us/step - loss: 1.9887 - val_loss: 1.9851\n",
      "Epoch 30/50\n",
      "\r28/28 [==============================] - 0s 201us/step - loss: 1.9851 - val_loss: 1.9816\n",
      "Epoch 31/50\n\r28/28 [==============================] - 0s 285us/step - loss: 1.9816 - val_loss: 1.9783\n",
      "Epoch 32/50\n",
      "\r28/28 [==============================] - 0s 249us/step - loss: 1.9783 - val_loss: 1.9553\n",
      "Epoch 33/50\n\r28/28 [==============================] - 0s 248us/step - loss: 1.9553 - val_loss: 1.9437\n",
      "Epoch 34/50\n",
      "\r28/28 [==============================] - 0s 249us/step - loss: 1.9437 - val_loss: 1.9406\n",
      "Epoch 35/50\n\r28/28 [==============================] - 0s 214us/step - loss: 1.9406 - val_loss: 1.9376\n",
      "Epoch 36/50\n",
      "\r28/28 [==============================] - 0s 285us/step - loss: 1.9376 - val_loss: 1.9346\n",
      "Epoch 37/50\n\r28/28 [==============================] - 0s 213us/step - loss: 1.9346 - val_loss: 1.9316\n",
      "Epoch 38/50\n",
      "\r28/28 [==============================] - 0s 250us/step - loss: 1.9316 - val_loss: 1.9287\n",
      "Epoch 39/50\n\r28/28 [==============================] - 0s 214us/step - loss: 1.9287 - val_loss: 1.9260\n",
      "Epoch 40/50\n",
      "\r28/28 [==============================] - 0s 214us/step - loss: 1.9260 - val_loss: 1.9232\n",
      "Epoch 41/50\n\r28/28 [==============================] - 0s 214us/step - loss: 1.9232 - val_loss: 1.9205\n",
      "Epoch 42/50\n\r28/28 [==============================] - 0s 214us/step - loss: 1.9205 - val_loss: 1.9178\n",
      "Epoch 43/50\n\r28/28 [==============================] - 0s 214us/step - loss: 1.9178 - val_loss: 1.9154\n",
      "Epoch 44/50\n\r28/28 [==============================] - 0s 356us/step - loss: 1.9154 - val_loss: 1.9129\n",
      "Epoch 45/50\n\r28/28 [==============================] - 0s 271us/step - loss: 1.9129 - val_loss: 1.9105\n",
      "Epoch 46/50\n",
      "\r28/28 [==============================] - 0s 319us/step - loss: 1.9105 - val_loss: 1.9083\n",
      "Epoch 47/50\n\r28/28 [==============================] - 0s 212us/step - loss: 1.9083 - val_loss: 1.9058\n",
      "Epoch 48/50\n\r28/28 [==============================] - 0s 249us/step - loss: 1.9058 - val_loss: 1.9033\n",
      "Epoch 49/50\n\r28/28 [==============================] - 0s 214us/step - loss: 1.9033 - val_loss: 1.9009\n",
      "Epoch 50/50\n\r28/28 [==============================] - 0s 249us/step - loss: 1.9009 - val_loss: 1.8986\n"
     ],
     "output_type": "stream"
    },
    {
     "data": {
      "text/plain": "<keras.callbacks.History at 0x17549afae48>"
     },
     "metadata": {},
     "output_type": "execute_result",
     "execution_count": 379
    }
   ],
   "source": [
    "autoencoder.fit(x_1,x_1,\n",
    "                batch_size=256, epochs=50,\n",
    "                shuffle = True, validation_split = 0.20)"
   ],
   "metadata": {
    "collapsed": false,
    "pycharm": {
     "name": "#%%\n",
     "is_executing": false
    }
   }
  },
  {
   "cell_type": "code",
   "execution_count": 380,
   "outputs": [],
   "source": [
    "hidden_representation = Sequential()\n",
    "hidden_representation.add(autoencoder.layers[0])\n",
    "hidden_representation.add(autoencoder.layers[1])\n",
    "hidden_representation.add(autoencoder.layers[2])"
   ],
   "metadata": {
    "collapsed": false,
    "pycharm": {
     "name": "#%%\n",
     "is_executing": false
    }
   }
  },
  {
   "cell_type": "code",
   "execution_count": 381,
   "outputs": [],
   "source": [
    "one_hid_rep=hidden_representation.predict(x_1)\n",
    "two_hid_rep=hidden_representation.predict(x_2)\n",
    "three_hid_rep=hidden_representation.predict(x_3)"
   ],
   "metadata": {
    "collapsed": false,
    "pycharm": {
     "name": "#%%\n",
     "is_executing": false
    }
   }
  },
  {
   "cell_type": "code",
   "execution_count": 382,
   "outputs": [],
   "source": [
    "rep_x = np.append(one_hid_rep,two_hid_rep,axis=0)\n",
    "rep_x = np.append(rep_x,three_hid_rep,axis=0)\n",
    "y_1 = np.full(x_1.shape[0],1)\n",
    "y_2 = np.full(x_2.shape[0],2)\n",
    "y_3 = np.full(x_3.shape[0],3)\n",
    "rep_y = np.append(y_1,y_2)\n",
    "rep_y = np.append(rep_y,y_3)"
   ],
   "metadata": {
    "collapsed": false,
    "pycharm": {
     "name": "#%%\n",
     "is_executing": false
    }
   }
  },
  {
   "cell_type": "code",
   "execution_count": 383,
   "outputs": [
    {
     "data": {
      "text/plain": "array([[0.        , 0.        , 0.05942309, ..., 0.        , 0.023955  ,\n        0.        ],\n       [0.        , 0.        , 0.        , ..., 0.        , 0.        ,\n        0.        ],\n       [0.        , 0.        , 0.        , ..., 0.00381565, 0.        ,\n        0.        ],\n       ...,\n       [0.        , 0.        , 0.06045492, ..., 0.        , 0.02586344,\n        0.        ],\n       [0.        , 0.        , 0.        , ..., 0.        , 0.        ,\n        0.        ],\n       [0.        , 0.        , 0.        , ..., 0.00694304, 0.        ,\n        0.        ]], dtype=float32)"
     },
     "metadata": {},
     "output_type": "execute_result",
     "execution_count": 383
    }
   ],
   "source": [
    "rep_x"
   ],
   "metadata": {
    "collapsed": false,
    "pycharm": {
     "name": "#%%\n",
     "is_executing": false
    }
   }
  },
  {
   "cell_type": "code",
   "execution_count": 384,
   "outputs": [],
   "source": [
    "train_x, val_x, train_y, val_y = train_test_split(rep_x,rep_y,test_size=0.25)"
   ],
   "metadata": {
    "collapsed": false,
    "pycharm": {
     "name": "#%%\n",
     "is_executing": false
    }
   }
  },
  {
   "cell_type": "code",
   "execution_count": 385,
   "outputs": [
    {
     "name": "stdout",
     "text": [
      "\nClassification Report: \n              precision    recall  f1-score   support\n\n           1       0.14      0.60      0.22         5\n           2       0.20      0.09      0.13        11\n           3       0.00      0.00      0.00        11\n\n    accuracy                           0.15        27\n   macro avg       0.11      0.23      0.12        27\nweighted avg       0.11      0.15      0.09        27\n\n\nAccuracy Score:  0.14814814814814814\n"
     ],
     "output_type": "stream"
    },
    {
     "name": "stderr",
     "text": [
      "C:\\Users\\KingKwan\\Anaconda2\\envs\\FirstStep\\venv2\\lib\\site-packages\\sklearn\\metrics\\classification.py:1437: UndefinedMetricWarning: Precision and F-score are ill-defined and being set to 0.0 in labels with no predicted samples.\n  'precision', 'predicted', average, warn_for)\n"
     ],
     "output_type": "stream"
    }
   ],
   "source": [
    "clf = LogisticRegression(multi_class='multinomial',solver='lbfgs').fit(train_x,train_y)\n",
    "#clf = LinearRegression().fit(train_x,train_y)\n",
    "pred_y = clf.predict(val_x)\n",
    "\n",
    "print(\"\\nClassification Report: \")\n",
    "print(classification_report(val_y,pred_y))\n",
    "\n",
    "print(\"\\nAccuracy Score: \",accuracy_score(val_y,pred_y))"
   ],
   "metadata": {
    "collapsed": false,
    "pycharm": {
     "name": "#%%\n",
     "is_executing": false
    }
   }
  },
  {
   "cell_type": "code",
   "execution_count": 386,
   "outputs": [
    {
     "data": {
      "text/plain": "array([2, 2, 2, 2, 3, 3, 3, 3, 2, 2, 2, 3, 1, 1, 3, 1, 2, 1, 3, 3, 2, 2,\n       1, 3, 3, 2, 3])"
     },
     "metadata": {},
     "output_type": "execute_result",
     "execution_count": 386
    }
   ],
   "source": [
    "val_y"
   ],
   "metadata": {
    "collapsed": false,
    "pycharm": {
     "name": "#%%\n",
     "is_executing": false
    }
   }
  },
  {
   "cell_type": "code",
   "execution_count": 387,
   "outputs": [
    {
     "data": {
      "text/plain": "array([1, 2, 1, 1, 1, 1, 1, 1, 1, 1, 1, 1, 2, 1, 2, 1, 1, 1, 1, 1, 1, 1,\n       2, 2, 1, 1, 1])"
     },
     "metadata": {},
     "output_type": "execute_result",
     "execution_count": 387
    }
   ],
   "source": [
    "pred_y"
   ],
   "metadata": {
    "collapsed": false,
    "pycharm": {
     "name": "#%%\n",
     "is_executing": false
    }
   }
  },
  {
   "cell_type": "code",
   "execution_count": null,
   "outputs": [],
   "source": [
    "new = pd.read_csv('../data/valid_data')\n",
    "new"
   ],
   "metadata": {
    "collapsed": false,
    "pycharm": {
     "name": "#%%\n"
    }
   }
  },
  {
   "cell_type": "code",
   "execution_count": null,
   "outputs": [],
   "source": [
    "res = autoencoder.predict(new)"
   ],
   "metadata": {
    "collapsed": false,
    "pycharm": {
     "name": "#%%\n"
    }
   }
  },
  {
   "cell_type": "code",
   "execution_count": null,
   "outputs": [],
   "source": [
    "res"
   ],
   "metadata": {
    "collapsed": false,
    "pycharm": {
     "name": "#%%\n"
    }
   }
  },
  {
   "cell_type": "code",
   "execution_count": null,
   "outputs": [],
   "source": [],
   "metadata": {
    "collapsed": false,
    "pycharm": {
     "name": "#%%"
    }
   }
  }
 ],
 "metadata": {
  "language_info": {
   "codemirror_mode": {
    "name": "ipython",
    "version": 2
   },
   "file_extension": ".py",
   "mimetype": "text/x-python",
   "name": "python",
   "nbconvert_exporter": "python",
   "pygments_lexer": "ipython2",
   "version": "2.7.6"
  },
  "kernelspec": {
   "name": "python3",
   "language": "python",
   "display_name": "Python 3"
  },
  "pycharm": {
   "stem_cell": {
    "cell_type": "raw",
    "source": [],
    "metadata": {
     "collapsed": false
    }
   }
  }
 },
 "nbformat": 4,
 "nbformat_minor": 0
}