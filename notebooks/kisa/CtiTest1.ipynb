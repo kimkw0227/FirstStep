{
 "cells": [
  {
   "cell_type": "code",
   "execution_count": 2,
   "metadata": {
    "collapsed": true,
    "pycharm": {
     "is_executing": false
    }
   },
   "outputs": [
    {
     "name": "stderr",
     "text": [
      "C:\\Users\\KingKwan\\Anaconda2\\envs\\FirstStep\\venv2\\lib\\site-packages\\sklearn\\externals\\joblib\\__init__.py:15: DeprecationWarning: sklearn.externals.joblib is deprecated in 0.21 and will be removed in 0.23. Please import this functionality directly from joblib, which can be installed with: pip install joblib. If this warning is raised when loading pickled models, you may need to re-serialize those models with scikit-learn 0.21+.\n  warnings.warn(msg, category=DeprecationWarning)\n"
     ],
     "output_type": "stream"
    }
   ],
   "source": [
    "from sklearn.ensemble import RandomForestClassifier\n",
    "from sklearn.externals import joblib\n",
    "import numpy as np\n",
    "import pandas as pd"
   ]
  },
  {
   "cell_type": "code",
   "execution_count": 3,
   "outputs": [],
   "source": [
    "X = list()\n",
    "y = list()"
   ],
   "metadata": {
    "collapsed": false,
    "pycharm": {
     "name": "#%%\n",
     "is_executing": false
    }
   }
  },
  {
   "cell_type": "code",
   "execution_count": 4,
   "outputs": [],
   "source": [
    "records = [{'id':'Fraud','value':30,'value2':'Hi','value3':'google.cm','value4':[1,2,3]},\n",
    "           {'id':'Not','value':50,'value2':'hola','value3':'gochamp.net','value4':[1,2]},\n",
    "           {'id':'Fraud','value':35,'value2':'wow','value3':'qoogle.net','value4':[1,2,3,5]},\n",
    "           {'id':'Fraud','value':25,'value2':'world','value3':'12220.com'},\n",
    "           {'id':'Not','value':55,'value2':'awesome','value3':'il222.pe.kr','value4':[1,5,3]},\n",
    "           ]\n",
    "df = pd.DataFrame(records)"
   ],
   "metadata": {
    "collapsed": false,
    "pycharm": {
     "name": "#%%\n",
     "is_executing": false
    }
   }
  },
  {
   "cell_type": "code",
   "execution_count": 5,
   "outputs": [
    {
     "data": {
      "text/plain": "      id  value   value2       value3        value4\n0  Fraud     30       Hi    google.cm     [1, 2, 3]\n1    Not     50     hola  gochamp.net        [1, 2]\n2  Fraud     35      wow   qoogle.net  [1, 2, 3, 5]\n3  Fraud     25    world    12220.com           NaN\n4    Not     55  awesome  il222.pe.kr     [1, 5, 3]",
      "text/html": "<div>\n<style scoped>\n    .dataframe tbody tr th:only-of-type {\n        vertical-align: middle;\n    }\n\n    .dataframe tbody tr th {\n        vertical-align: top;\n    }\n\n    .dataframe thead th {\n        text-align: right;\n    }\n</style>\n<table border=\"1\" class=\"dataframe\">\n  <thead>\n    <tr style=\"text-align: right;\">\n      <th></th>\n      <th>id</th>\n      <th>value</th>\n      <th>value2</th>\n      <th>value3</th>\n      <th>value4</th>\n    </tr>\n  </thead>\n  <tbody>\n    <tr>\n      <th>0</th>\n      <td>Fraud</td>\n      <td>30</td>\n      <td>Hi</td>\n      <td>google.cm</td>\n      <td>[1, 2, 3]</td>\n    </tr>\n    <tr>\n      <th>1</th>\n      <td>Not</td>\n      <td>50</td>\n      <td>hola</td>\n      <td>gochamp.net</td>\n      <td>[1, 2]</td>\n    </tr>\n    <tr>\n      <th>2</th>\n      <td>Fraud</td>\n      <td>35</td>\n      <td>wow</td>\n      <td>qoogle.net</td>\n      <td>[1, 2, 3, 5]</td>\n    </tr>\n    <tr>\n      <th>3</th>\n      <td>Fraud</td>\n      <td>25</td>\n      <td>world</td>\n      <td>12220.com</td>\n      <td>NaN</td>\n    </tr>\n    <tr>\n      <th>4</th>\n      <td>Not</td>\n      <td>55</td>\n      <td>awesome</td>\n      <td>il222.pe.kr</td>\n      <td>[1, 5, 3]</td>\n    </tr>\n  </tbody>\n</table>\n</div>"
     },
     "metadata": {},
     "output_type": "execute_result",
     "execution_count": 5
    }
   ],
   "source": [
    "df.head()"
   ],
   "metadata": {
    "collapsed": false,
    "pycharm": {
     "name": "#%%\n",
     "is_executing": false
    }
   }
  },
  {
   "cell_type": "code",
   "execution_count": 6,
   "outputs": [],
   "source": [
    "import gensim"
   ],
   "metadata": {
    "collapsed": false,
    "pycharm": {
     "name": "#%%\n",
     "is_executing": false
    }
   }
  },
  {
   "cell_type": "code",
   "execution_count": 7,
   "outputs": [],
   "source": [
    "documents = list()\n",
    "for i in df['value3']:\n",
    "    documents.append(gensim.utils.simple_preprocess(i,True))"
   ],
   "metadata": {
    "collapsed": false,
    "pycharm": {
     "name": "#%%\n",
     "is_executing": false
    }
   }
  },
  {
   "cell_type": "code",
   "execution_count": 8,
   "outputs": [
    {
     "data": {
      "text/plain": "[['google', 'cm'],\n ['gochamp', 'net'],\n ['qoogle', 'net'],\n ['com'],\n ['il', 'pe', 'kr']]"
     },
     "metadata": {},
     "output_type": "execute_result",
     "execution_count": 8
    }
   ],
   "source": [
    "documents"
   ],
   "metadata": {
    "collapsed": false,
    "pycharm": {
     "name": "#%%\n",
     "is_executing": false
    }
   }
  },
  {
   "cell_type": "code",
   "execution_count": 9,
   "outputs": [],
   "source": [
    "model = gensim.models.Word2Vec(\n",
    "    documents,\n",
    "    size=150,\n",
    "    window=10,\n",
    "    min_count=1,\n",
    "    workers=10\n",
    ")"
   ],
   "metadata": {
    "collapsed": false,
    "pycharm": {
     "name": "#%%\n",
     "is_executing": false
    }
   }
  },
  {
   "cell_type": "code",
   "execution_count": 10,
   "outputs": [
    {
     "data": {
      "text/plain": "(9, 100)"
     },
     "metadata": {},
     "output_type": "execute_result",
     "execution_count": 10
    }
   ],
   "source": [
    "model.train(documents,total_examples=len(documents),epochs=10)"
   ],
   "metadata": {
    "collapsed": false,
    "pycharm": {
     "name": "#%%\n",
     "is_executing": false
    }
   }
  },
  {
   "cell_type": "code",
   "execution_count": 11,
   "outputs": [
    {
     "name": "stderr",
     "text": [
      "C:\\Users\\KingKwan\\Anaconda2\\envs\\FirstStep\\venv2\\lib\\site-packages\\smart_open\\smart_open_lib.py:398: UserWarning: This function is deprecated, use smart_open.open instead. See the migration notes for details: https://github.com/RaRe-Technologies/smart_open/blob/master/README.rst#migrating-to-the-new-open-function\n  'See the migration notes for details: %s' % _MIGRATION_NOTES_URL\n"
     ],
     "output_type": "stream"
    }
   ],
   "source": [
    "model.save('word2vec.model')"
   ],
   "metadata": {
    "collapsed": false,
    "pycharm": {
     "name": "#%%\n",
     "is_executing": false
    }
   }
  },
  {
   "cell_type": "code",
   "execution_count": 12,
   "outputs": [
    {
     "data": {
      "text/plain": "{'google': <gensim.models.keyedvectors.Vocab at 0x2199ccdc748>,\n 'cm': <gensim.models.keyedvectors.Vocab at 0x2199ccdcdd8>,\n 'gochamp': <gensim.models.keyedvectors.Vocab at 0x2199ccdcef0>,\n 'net': <gensim.models.keyedvectors.Vocab at 0x2199ccdcc18>,\n 'qoogle': <gensim.models.keyedvectors.Vocab at 0x2199ccdc550>,\n 'com': <gensim.models.keyedvectors.Vocab at 0x2199ccdc6d8>,\n 'il': <gensim.models.keyedvectors.Vocab at 0x2199ccdc2e8>,\n 'pe': <gensim.models.keyedvectors.Vocab at 0x2199ccdc4a8>,\n 'kr': <gensim.models.keyedvectors.Vocab at 0x2199ccdcc50>}"
     },
     "metadata": {},
     "output_type": "execute_result",
     "execution_count": 12
    }
   ],
   "source": [
    "model.wv.vocab"
   ],
   "metadata": {
    "collapsed": false,
    "pycharm": {
     "name": "#%%\n",
     "is_executing": false
    }
   }
  },
  {
   "cell_type": "code",
   "execution_count": 13,
   "outputs": [
    {
     "name": "stdout",
     "text": [
      "google.cm\n0.07851643860340118\n0.030749771744012833\n0.01843087375164032\n-0.005778854247182608\n-0.020937399938702583\n-0.048385996371507645\n-0.05171691253781319\n-0.12453774362802505\n0.14481686055660248\n0.11994870007038116\n0.07442721724510193\n0.05950844660401344\n0.030749766156077385\n0.001619182527065277\n-0.03817058354616165\n-0.05605674535036087\ngochamp.net",
      "\n0.11994870007038116\n0.022968241944909096\n0.005958695895969868\n6.718933582305908e-05\n-0.020937403663992882\n-0.053168825805187225\n-0.09669655561447144\n-0.09973536431789398\n0.2013966590166092\n0.022968251258134842\n0.018430868163704872\n0.015184106305241585\n0.0016191843897104263\n-0.08856526017189026\n-0.09393914043903351\n-0.13042941689491272\nqoogle.net\n0.005958699621260166\n0.005203390493988991\n-0.04125411808490753\n-0.05171692743897438\n-0.05380953848361969\n-0.05605674535036087\n-0.10453400760889053\n-0.13042938709259033\n0.2013966590166092\n0.022968251258134842\n0.018430868163704872\n0.015184106305241585\n0.0016191843897104263\n-0.08856526017189026\n-0.09393914043903351\n-0.13042941689491272\n12220.com\n0.08956722915172577\n0.06492597609758377\n0.04593629762530327\n0.015184087678790092\n-0.005778847262263298\n-0.03817058354616165\n-0.04125412553548813\n-0.09973537176847458\nil222.pe.kr\n0.06492599099874496\n0.05950844660401344\n0.03737800195813179\n0.013171300292015076\n6.719306111335754e-05\n-0.048385996371507645\n-0.05380954593420029\n-0.08856526762247086\n0.14481684565544128\n0.08956724405288696\n0.07851644605398178\n0.06624101847410202\n0.037377987056970596\n-0.05316881835460663\n-0.09393911808729172\n-0.10453401505947113\n"
     ],
     "output_type": "stream"
    }
   ],
   "source": [
    "for i in df['value3']:\n",
    "    print(i)\n",
    "    j = 0.0\n",
    "    for w in str(i).split('.'):\n",
    "        try:\n",
    "            for _,value in model.wv.most_similar(positive=w):\n",
    "                print(value)\n",
    "                j = j+value\n",
    "        except KeyError:\n",
    "            j = j+j\n",
    "    df.loc[df['value3'] == i,'value3'] = j"
   ],
   "metadata": {
    "collapsed": false,
    "pycharm": {
     "name": "#%%\n",
     "is_executing": false
    }
   }
  },
  {
   "cell_type": "code",
   "execution_count": 14,
   "outputs": [
    {
     "name": "stdout",
     "text": [
      "Hi\nhola\nwow\nworld\nawesome\n"
     ],
     "output_type": "stream"
    }
   ],
   "source": [
    "documents.clear()\n",
    "for i in df['value2']:\n",
    "    print(i)\n",
    "    documents.append(gensim.utils.simple_preprocess(i))"
   ],
   "metadata": {
    "collapsed": false,
    "pycharm": {
     "name": "#%%\n",
     "is_executing": false
    }
   }
  },
  {
   "cell_type": "code",
   "execution_count": 15,
   "outputs": [
    {
     "data": {
      "text/plain": "[['hi'], ['hola'], ['wow'], ['world'], ['awesome']]"
     },
     "metadata": {},
     "output_type": "execute_result",
     "execution_count": 15
    }
   ],
   "source": [
    "documents"
   ],
   "metadata": {
    "collapsed": false,
    "pycharm": {
     "name": "#%%\n",
     "is_executing": false
    }
   }
  },
  {
   "cell_type": "code",
   "execution_count": 16,
   "outputs": [
    {
     "data": {
      "text/plain": "(3, 50)"
     },
     "metadata": {},
     "output_type": "execute_result",
     "execution_count": 16
    }
   ],
   "source": [
    "model2 = gensim.models.Word2Vec(\n",
    "    documents,\n",
    "    size=150,\n",
    "    window=10,\n",
    "    min_count=1,\n",
    "    workers=10\n",
    ")\n",
    "\n",
    "model2.train(documents,total_examples=len(documents),epochs=10)"
   ],
   "metadata": {
    "collapsed": false,
    "pycharm": {
     "name": "#%%\n",
     "is_executing": false
    }
   }
  },
  {
   "cell_type": "code",
   "execution_count": 17,
   "outputs": [
    {
     "data": {
      "text/plain": "{'hi': <gensim.models.keyedvectors.Vocab at 0x2199ccfb048>,\n 'hola': <gensim.models.keyedvectors.Vocab at 0x2199ccfbc50>,\n 'wow': <gensim.models.keyedvectors.Vocab at 0x2199ccfbef0>,\n 'world': <gensim.models.keyedvectors.Vocab at 0x2199ccfb8d0>,\n 'awesome': <gensim.models.keyedvectors.Vocab at 0x2199ccfbda0>}"
     },
     "metadata": {},
     "output_type": "execute_result",
     "execution_count": 17
    }
   ],
   "source": [
    "model2.wv.vocab"
   ],
   "metadata": {
    "collapsed": false,
    "pycharm": {
     "name": "#%%\n",
     "is_executing": false
    }
   }
  },
  {
   "cell_type": "code",
   "execution_count": 18,
   "outputs": [
    {
     "name": "stdout",
     "text": [
      "Hi",
      "\nhola\n0.06592582166194916\n0.05514705181121826\n0.0023816004395484924\n-0.060907140374183655\nwow\n0.03856927528977394\n0.02105572074651718\n-0.039768122136592865\n-0.06090714782476425\nworld\n0.01982511579990387\n0.0023815929889678955\n-0.039768122136592865\n-0.08112909644842148\nawesome\n0.055147044360637665\n0.03856927528977394\n0.01982511579990387\n-0.10502083599567413\n"
     ],
     "output_type": "stream"
    }
   ],
   "source": [
    "for i in df['value2']:\n",
    "    print(i)\n",
    "    j = 0.0\n",
    "    for w in str(i).split('.'):\n",
    "        try:\n",
    "            for _,value in model2.wv.most_similar(positive=w):\n",
    "                print(value)\n",
    "                j = j+value\n",
    "        except KeyError:\n",
    "            j = j+j\n",
    "    df.loc[df['value2'] == i,'value2'] = j"
   ],
   "metadata": {
    "collapsed": false,
    "pycharm": {
     "name": "#%%\n",
     "is_executing": false
    }
   }
  },
  {
   "cell_type": "code",
   "execution_count": 19,
   "outputs": [],
   "source": [
    "df = df.fillna(0)\n",
    "for i in df['value4']:\n",
    "    if i == 0:\n",
    "        continue\n",
    "    else:\n",
    "        size = len(i)\n",
    "        df['value4'] = df['value4'].apply(lambda x: np.sum(x)/size)\n",
    "        #print(i,size)"
   ],
   "metadata": {
    "collapsed": false,
    "pycharm": {
     "name": "#%%\n",
     "is_executing": false
    }
   }
  },
  {
   "cell_type": "code",
   "execution_count": 20,
   "outputs": [
    {
     "data": {
      "text/plain": "      id  value    value2    value3    value4\n0  Fraud     30  0.000000  0.213183  0.083333\n1    Not     50  0.062547 -0.174930  0.041667\n2  Fraud     35 -0.041050 -0.479973  0.152778\n3  Fraud     25 -0.098691  0.030675  0.000000\n4    Not     55  0.008521  0.149168  0.125000",
      "text/html": "<div>\n<style scoped>\n    .dataframe tbody tr th:only-of-type {\n        vertical-align: middle;\n    }\n\n    .dataframe tbody tr th {\n        vertical-align: top;\n    }\n\n    .dataframe thead th {\n        text-align: right;\n    }\n</style>\n<table border=\"1\" class=\"dataframe\">\n  <thead>\n    <tr style=\"text-align: right;\">\n      <th></th>\n      <th>id</th>\n      <th>value</th>\n      <th>value2</th>\n      <th>value3</th>\n      <th>value4</th>\n    </tr>\n  </thead>\n  <tbody>\n    <tr>\n      <th>0</th>\n      <td>Fraud</td>\n      <td>30</td>\n      <td>0.000000</td>\n      <td>0.213183</td>\n      <td>0.083333</td>\n    </tr>\n    <tr>\n      <th>1</th>\n      <td>Not</td>\n      <td>50</td>\n      <td>0.062547</td>\n      <td>-0.174930</td>\n      <td>0.041667</td>\n    </tr>\n    <tr>\n      <th>2</th>\n      <td>Fraud</td>\n      <td>35</td>\n      <td>-0.041050</td>\n      <td>-0.479973</td>\n      <td>0.152778</td>\n    </tr>\n    <tr>\n      <th>3</th>\n      <td>Fraud</td>\n      <td>25</td>\n      <td>-0.098691</td>\n      <td>0.030675</td>\n      <td>0.000000</td>\n    </tr>\n    <tr>\n      <th>4</th>\n      <td>Not</td>\n      <td>55</td>\n      <td>0.008521</td>\n      <td>0.149168</td>\n      <td>0.125000</td>\n    </tr>\n  </tbody>\n</table>\n</div>"
     },
     "metadata": {},
     "output_type": "execute_result",
     "execution_count": 20
    }
   ],
   "source": [
    "df"
   ],
   "metadata": {
    "collapsed": false,
    "pycharm": {
     "name": "#%%\n",
     "is_executing": false
    }
   }
  },
  {
   "cell_type": "code",
   "execution_count": 21,
   "outputs": [],
   "source": [
    "X = df.drop(['id'],axis=1).values\n",
    "y = df['id'].values"
   ],
   "metadata": {
    "collapsed": false,
    "pycharm": {
     "name": "#%%\n",
     "is_executing": false
    }
   }
  },
  {
   "cell_type": "code",
   "execution_count": 22,
   "outputs": [
    {
     "data": {
      "text/plain": "array([[ 3.00000000e+01,  0.00000000e+00,  2.13183022e-01,\n         8.33333333e-02],\n       [ 5.00000000e+01,  6.25473335e-02, -1.74930071e-01,\n         4.16666667e-02],\n       [ 3.50000000e+01, -4.10502739e-02, -4.79973382e-01,\n         1.52777778e-01],\n       [ 2.50000000e+01, -9.86905098e-02,  3.06746624e-02,\n         0.00000000e+00],\n       [ 5.50000000e+01,  8.52059945e-03,  1.49167713e-01,\n         1.25000000e-01]])"
     },
     "metadata": {},
     "output_type": "execute_result",
     "execution_count": 22
    }
   ],
   "source": [
    "X"
   ],
   "metadata": {
    "collapsed": false,
    "pycharm": {
     "name": "#%%\n",
     "is_executing": false
    }
   }
  },
  {
   "cell_type": "code",
   "execution_count": 25,
   "outputs": [],
   "source": [
    "X2 = df.values"
   ],
   "metadata": {
    "collapsed": false,
    "pycharm": {
     "name": "#%%\n",
     "is_executing": false
    }
   }
  },
  {
   "cell_type": "code",
   "execution_count": 33,
   "outputs": [
    {
     "name": "stdout",
     "text": [
      "[30 0.0 0.2131830216385424 0.08333333333333333]\n[50 0.06254733353853226 -0.1749300705268979 0.041666666666666664]\n[35 -0.041050273925065994 -0.47997338231652975 0.15277777777777776]\n[25 -0.09869050979614258 0.030674662441015244 0.0]\n[55 0.008520599454641342 0.149167712777853 0.125]\n"
     ],
     "output_type": "stream"
    }
   ],
   "source": [
    "for i in X2:\n",
    "    print(i[1:])"
   ],
   "metadata": {
    "collapsed": false,
    "pycharm": {
     "name": "#%%\n",
     "is_executing": false
    }
   }
  },
  {
   "cell_type": "code",
   "execution_count": 35,
   "outputs": [
    {
     "data": {
      "text/plain": "array(['Fraud', 'Not', 'Fraud', 'Fraud', 'Not'], dtype=object)"
     },
     "metadata": {},
     "output_type": "execute_result",
     "execution_count": 35
    }
   ],
   "source": [
    "y"
   ],
   "metadata": {
    "collapsed": false,
    "pycharm": {
     "name": "#%%\n",
     "is_executing": false
    }
   }
  },
  {
   "cell_type": "code",
   "execution_count": 36,
   "outputs": [
    {
     "data": {
      "text/plain": "RandomForestClassifier(bootstrap=True, class_weight=None, criterion='gini',\n                       max_depth=4, max_features='auto', max_leaf_nodes=None,\n                       min_impurity_decrease=0.0, min_impurity_split=None,\n                       min_samples_leaf=1, min_samples_split=2,\n                       min_weight_fraction_leaf=0.0, n_estimators=10,\n                       n_jobs=None, oob_score=False, random_state=0, verbose=0,\n                       warm_start=False)"
     },
     "metadata": {},
     "output_type": "execute_result",
     "execution_count": 36
    }
   ],
   "source": [
    "clf = RandomForestClassifier(n_estimators=10,max_depth=4,random_state=0)\n",
    "clf.fit(X,y)"
   ],
   "metadata": {
    "collapsed": false,
    "pycharm": {
     "name": "#%%\n",
     "is_executing": false
    }
   }
  },
  {
   "cell_type": "code",
   "execution_count": 37,
   "outputs": [
    {
     "data": {
      "text/plain": "1.0"
     },
     "metadata": {},
     "output_type": "execute_result",
     "execution_count": 37
    }
   ],
   "source": [
    "clf.score([[55,0.5,0,0.08],[30,0,0,0.01],[20,0,0,0.0],[60,0,0,0.015]],[['Not'],['Fraud'],['Fraud'],['Not']])"
   ],
   "metadata": {
    "collapsed": false,
    "pycharm": {
     "name": "#%%\n",
     "is_executing": false
    }
   }
  },
  {
   "cell_type": "code",
   "execution_count": 38,
   "outputs": [
    {
     "data": {
      "text/plain": "id         object\nvalue       int64\nvalue2    float64\nvalue3    float64\nvalue4    float64\ndtype: object"
     },
     "metadata": {},
     "output_type": "execute_result",
     "execution_count": 38
    }
   ],
   "source": [
    "df.dtypes"
   ],
   "metadata": {
    "collapsed": false,
    "pycharm": {
     "name": "#%%\n",
     "is_executing": false
    }
   }
  },
  {
   "cell_type": "code",
   "execution_count": 39,
   "outputs": [
    {
     "name": "stderr",
     "text": [
      "C:\\Users\\KingKwan\\Anaconda2\\envs\\FirstStep\\venv2\\lib\\site-packages\\smart_open\\smart_open_lib.py:398: UserWarning: This function is deprecated, use smart_open.open instead. See the migration notes for details: https://github.com/RaRe-Technologies/smart_open/blob/master/README.rst#migrating-to-the-new-open-function\n  'See the migration notes for details: %s' % _MIGRATION_NOTES_URL\n"
     ],
     "output_type": "stream"
    }
   ],
   "source": [
    "#\n",
    "model3 = gensim.models.Word2Vec.load('word2vec.model')"
   ],
   "metadata": {
    "collapsed": false,
    "pycharm": {
     "name": "#%%\n",
     "is_executing": false
    }
   }
  },
  {
   "cell_type": "code",
   "execution_count": 40,
   "outputs": [
    {
     "data": {
      "text/plain": "{'google': <gensim.models.keyedvectors.Vocab at 0x2199ce315c0>,\n 'cm': <gensim.models.keyedvectors.Vocab at 0x2199ce31278>,\n 'gochamp': <gensim.models.keyedvectors.Vocab at 0x2199ce31400>,\n 'net': <gensim.models.keyedvectors.Vocab at 0x2199ce31080>,\n 'qoogle': <gensim.models.keyedvectors.Vocab at 0x2199ce31128>,\n 'com': <gensim.models.keyedvectors.Vocab at 0x2199ce310f0>,\n 'il': <gensim.models.keyedvectors.Vocab at 0x2199ce31198>,\n 'pe': <gensim.models.keyedvectors.Vocab at 0x2199ce31048>,\n 'kr': <gensim.models.keyedvectors.Vocab at 0x2199ce313c8>}"
     },
     "metadata": {},
     "output_type": "execute_result",
     "execution_count": 40
    }
   ],
   "source": [
    "model3.wv.vocab"
   ],
   "metadata": {
    "collapsed": false,
    "pycharm": {
     "name": "#%%\n",
     "is_executing": false
    }
   }
  },
  {
   "cell_type": "code",
   "execution_count": 41,
   "outputs": [],
   "source": [
    "from sklearn.tree import export_graphviz"
   ],
   "metadata": {
    "collapsed": false,
    "pycharm": {
     "name": "#%%\n",
     "is_executing": false
    }
   }
  },
  {
   "cell_type": "code",
   "execution_count": 42,
   "outputs": [],
   "source": [
    "features = list(df.columns.values)\n",
    "estimator = clf.estimators_[5]"
   ],
   "metadata": {
    "collapsed": false,
    "pycharm": {
     "name": "#%%\n",
     "is_executing": false
    }
   }
  },
  {
   "cell_type": "code",
   "execution_count": 43,
   "outputs": [],
   "source": [
    "export_graphviz(estimator, out_file='tree.dot',\n",
    "                feature_names=features[1:],\n",
    "                class_names = features[0],\n",
    "                rounded=True,proportion =False,\n",
    "                precision = 2, filled = True\n",
    "                )"
   ],
   "metadata": {
    "collapsed": false,
    "pycharm": {
     "name": "#%%\n",
     "is_executing": false
    }
   }
  },
  {
   "cell_type": "code",
   "execution_count": 46,
   "outputs": [
    {
     "name": "stdout",
     "text": [
      "['Fraud']\n['Not']\n['Fraud']\n['Fraud']\n['Not']\n"
     ],
     "output_type": "stream"
    }
   ],
   "source": [
    "for i in X2:\n",
    "    print(clf.predict([i[1:]]))"
   ],
   "metadata": {
    "collapsed": false,
    "pycharm": {
     "name": "#%%\n",
     "is_executing": false
    }
   }
  },
  {
   "cell_type": "code",
   "execution_count": null,
   "outputs": [],
   "source": [
    "\n"
   ],
   "metadata": {
    "collapsed": false,
    "pycharm": {
     "name": "#%%\n"
    }
   }
  }
 ],
 "metadata": {
  "language_info": {
   "codemirror_mode": {
    "name": "ipython",
    "version": 2
   },
   "file_extension": ".py",
   "mimetype": "text/x-python",
   "name": "python",
   "nbconvert_exporter": "python",
   "pygments_lexer": "ipython2",
   "version": "2.7.6"
  },
  "kernelspec": {
   "name": "python3",
   "language": "python",
   "display_name": "Python 3"
  },
  "pycharm": {
   "stem_cell": {
    "cell_type": "raw",
    "source": [],
    "metadata": {
     "collapsed": false
    }
   }
  }
 },
 "nbformat": 4,
 "nbformat_minor": 0
}