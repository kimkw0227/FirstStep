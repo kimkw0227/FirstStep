{
 "cells": [
  {
   "cell_type": "code",
   "execution_count": 6,
   "outputs": [],
   "source": [
    "import pandas as pd\n",
    "import pickle\n",
    "import matplotlib.pyplot as plt\n",
    "import seaborn as sns"
   ],
   "metadata": {
    "collapsed": false,
    "pycharm": {
     "name": "#%%\n",
     "is_executing": false
    }
   }
  },
  {
   "cell_type": "code",
   "execution_count": 7,
   "outputs": [],
   "source": [
    "with open('../../data/pkl/basketball_train.pkl', 'rb') as train_data:\n",
    "    train = pickle.load(train_data)"
   ],
   "metadata": {
    "collapsed": false,
    "pycharm": {
     "name": "#%%\n",
     "is_executing": false
    }
   }
  },
  {
   "cell_type": "code",
   "execution_count": 8,
   "outputs": [],
   "source": [
    "with open('../../data/pkl/basketball_test.pkl', 'rb') as test_data:\n",
    "    test = pickle.load(test_data)"
   ],
   "metadata": {
    "collapsed": false,
    "pycharm": {
     "name": "#%%\n",
     "is_executing": false
    }
   }
  },
  {
   "cell_type": "code",
   "execution_count": 5,
   "metadata": {
    "collapsed": true,
    "pycharm": {
     "is_executing": false
    }
   },
   "outputs": [],
   "source": [
    "from sklearn.model_selection import GridSearchCV\n",
    "from sklearn.metrics import classification_report\n",
    "from sklearn.metrics import accuracy_score\n",
    "from sklearn.svm import SVC\n",
    "import numpy as np"
   ]
  },
  {
   "cell_type": "code",
   "execution_count": 3,
   "outputs": [],
   "source": [
    "def svc_param_selection(X, y, nfolds):\n",
    "    svm_parameters = [\n",
    "        {\n",
    "            'kernel': ['rbf'],\n",
    "            'gamma': [0.00001, 0.0001, 0.001, 0.01, 0.1, 1],\n",
    "            'C': [0.01, 0.1, 1, 10, 100, 1000]\n",
    "        }\n",
    "    ]\n",
    "    \n",
    "    clf = GridSearchCV(SVC(), svm_parameters, cv=10)\n",
    "    clf.fit(X_train, y_train.values.ravel())\n",
    "    print(clf.best_params_)\n",
    "    \n",
    "    return clf"
   ],
   "metadata": {
    "collapsed": false,
    "pycharm": {
     "name": "#%%\n",
     "is_executing": false
    }
   }
  },
  {
   "cell_type": "code",
   "execution_count": 10,
   "outputs": [],
   "source": [
    "X_train = train[['3P','BLK']]\n",
    "y_train = train[['Pos']]"
   ],
   "metadata": {
    "collapsed": false,
    "pycharm": {
     "name": "#%%\n",
     "is_executing": false
    }
   }
  },
  {
   "cell_type": "code",
   "execution_count": 12,
   "outputs": [
    {
     "name": "stdout",
     "text": [
      "{'C': 0.1, 'gamma': 1, 'kernel': 'rbf'}\n"
     ],
     "output_type": "stream"
    },
    {
     "name": "stderr",
     "text": [
      "C:\\Users\\kimkw\\Anaconda2\\envs\\FirstStep\\lib\\site-packages\\sklearn\\model_selection\\_search.py:813: DeprecationWarning: The default of the `iid` parameter will change from True to False in version 0.22 and will be removed in 0.24. This will change numeric results when test-set sizes are unequal.\n  DeprecationWarning)\n"
     ],
     "output_type": "stream"
    }
   ],
   "source": [
    "clf = svc_param_selection(X_train, y_train.values.ravel(), 10)"
   ],
   "metadata": {
    "collapsed": false,
    "pycharm": {
     "name": "#%%\n",
     "is_executing": false
    }
   }
  },
  {
   "cell_type": "code",
   "execution_count": 14,
   "outputs": [],
   "source": [
    "X_test = test[['3P','BLK']]\n",
    "y_test = test[['Pos']]"
   ],
   "metadata": {
    "collapsed": false,
    "pycharm": {
     "name": "#%%\n",
     "is_executing": false
    }
   }
  },
  {
   "cell_type": "code",
   "execution_count": 15,
   "outputs": [],
   "source": [
    "y_true, y_pred = y_test, clf.predict(X_test)"
   ],
   "metadata": {
    "collapsed": false,
    "pycharm": {
     "name": "#%%\n",
     "is_executing": false
    }
   }
  },
  {
   "cell_type": "code",
   "execution_count": 16,
   "outputs": [
    {
     "name": "stdout",
     "text": [
      "              precision    recall  f1-score   support\n\n           C       0.86      0.86      0.86         7\n          SG       0.92      0.92      0.92        13\n\n    accuracy                           0.90        20\n   macro avg       0.89      0.89      0.89        20\nweighted avg       0.90      0.90      0.90        20\n\n"
     ],
     "output_type": "stream"
    }
   ],
   "source": [
    "print(classification_report(y_true, y_pred))"
   ],
   "metadata": {
    "collapsed": false,
    "pycharm": {
     "name": "#%%\n",
     "is_executing": false
    }
   }
  },
  {
   "cell_type": "code",
   "execution_count": 17,
   "outputs": [
    {
     "name": "stdout",
     "text": [
      "accuracy : 0.9\n"
     ],
     "output_type": "stream"
    }
   ],
   "source": [
    "print(\"accuracy : \"+ str(accuracy_score(y_true,y_pred)))"
   ],
   "metadata": {
    "collapsed": false,
    "pycharm": {
     "name": "#%%\n",
     "is_executing": false
    }
   }
  },
  {
   "cell_type": "code",
   "execution_count": 18,
   "outputs": [
    {
     "data": {
      "text/plain": "   ground_truth prediction\n0            SG          C\n1            SG         SG\n2            SG         SG\n3             C          C\n4            SG         SG\n5            SG         SG\n6            SG         SG\n7            SG         SG\n8             C          C\n9             C          C\n10           SG         SG\n11            C          C\n12            C         SG\n13           SG         SG\n14           SG         SG\n15           SG         SG\n16           SG         SG\n17            C          C\n18            C          C\n19           SG         SG",
      "text/html": "<div>\n<style scoped>\n    .dataframe tbody tr th:only-of-type {\n        vertical-align: middle;\n    }\n\n    .dataframe tbody tr th {\n        vertical-align: top;\n    }\n\n    .dataframe thead th {\n        text-align: right;\n    }\n</style>\n<table border=\"1\" class=\"dataframe\">\n  <thead>\n    <tr style=\"text-align: right;\">\n      <th></th>\n      <th>ground_truth</th>\n      <th>prediction</th>\n    </tr>\n  </thead>\n  <tbody>\n    <tr>\n      <th>0</th>\n      <td>SG</td>\n      <td>C</td>\n    </tr>\n    <tr>\n      <th>1</th>\n      <td>SG</td>\n      <td>SG</td>\n    </tr>\n    <tr>\n      <th>2</th>\n      <td>SG</td>\n      <td>SG</td>\n    </tr>\n    <tr>\n      <th>3</th>\n      <td>C</td>\n      <td>C</td>\n    </tr>\n    <tr>\n      <th>4</th>\n      <td>SG</td>\n      <td>SG</td>\n    </tr>\n    <tr>\n      <th>5</th>\n      <td>SG</td>\n      <td>SG</td>\n    </tr>\n    <tr>\n      <th>6</th>\n      <td>SG</td>\n      <td>SG</td>\n    </tr>\n    <tr>\n      <th>7</th>\n      <td>SG</td>\n      <td>SG</td>\n    </tr>\n    <tr>\n      <th>8</th>\n      <td>C</td>\n      <td>C</td>\n    </tr>\n    <tr>\n      <th>9</th>\n      <td>C</td>\n      <td>C</td>\n    </tr>\n    <tr>\n      <th>10</th>\n      <td>SG</td>\n      <td>SG</td>\n    </tr>\n    <tr>\n      <th>11</th>\n      <td>C</td>\n      <td>C</td>\n    </tr>\n    <tr>\n      <th>12</th>\n      <td>C</td>\n      <td>SG</td>\n    </tr>\n    <tr>\n      <th>13</th>\n      <td>SG</td>\n      <td>SG</td>\n    </tr>\n    <tr>\n      <th>14</th>\n      <td>SG</td>\n      <td>SG</td>\n    </tr>\n    <tr>\n      <th>15</th>\n      <td>SG</td>\n      <td>SG</td>\n    </tr>\n    <tr>\n      <th>16</th>\n      <td>SG</td>\n      <td>SG</td>\n    </tr>\n    <tr>\n      <th>17</th>\n      <td>C</td>\n      <td>C</td>\n    </tr>\n    <tr>\n      <th>18</th>\n      <td>C</td>\n      <td>C</td>\n    </tr>\n    <tr>\n      <th>19</th>\n      <td>SG</td>\n      <td>SG</td>\n    </tr>\n  </tbody>\n</table>\n</div>"
     },
     "metadata": {},
     "output_type": "execute_result",
     "execution_count": 18
    }
   ],
   "source": [
    "comparison = pd.DataFrame({\n",
    "    'prediction': y_pred,\n",
    "    'ground_truth': y_true.values.ravel()\n",
    "})\n",
    "comparison\n",
    "\n"
   ],
   "metadata": {
    "collapsed": false,
    "pycharm": {
     "name": "#%%\n",
     "is_executing": false
    }
   }
  },
  {
   "cell_type": "code",
   "execution_count": null,
   "outputs": [],
   "source": [
    "\n"
   ],
   "metadata": {
    "collapsed": false,
    "pycharm": {
     "name": "#%%\n"
    }
   }
  }
 ],
 "metadata": {
  "kernelspec": {
   "display_name": "Python 3",
   "language": "python",
   "name": "python3"
  },
  "language_info": {
   "codemirror_mode": {
    "name": "ipython",
    "version": 2
   },
   "file_extension": ".py",
   "mimetype": "text/x-python",
   "name": "python",
   "nbconvert_exporter": "python",
   "pygments_lexer": "ipython2",
   "version": "2.7.6"
  },
  "pycharm": {
   "stem_cell": {
    "cell_type": "raw",
    "source": [],
    "metadata": {
     "collapsed": false
    }
   }
  }
 },
 "nbformat": 4,
 "nbformat_minor": 0
}