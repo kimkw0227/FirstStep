{
 "cells": [
  {
   "cell_type": "code",
   "execution_count": 1,
   "metadata": {
    "collapsed": true,
    "pycharm": {
     "name": "#%%\n",
     "is_executing": false
    }
   },
   "outputs": [],
   "source": [
    "import pandas as pd, plspm.config as c\n",
    "from plspm.plspm import Plspm\n",
    "from plspm.scale import Scale\n",
    "from plspm.scheme import Scheme\n",
    "from plspm.mode import Mode"
   ]
  },
  {
   "cell_type": "code",
   "execution_count": 2,
   "outputs": [],
   "source": [
    "russa = pd.read_csv('../../data/sjcu/russa.csv', index_col=0)\n",
    "#russa"
   ],
   "metadata": {
    "collapsed": false,
    "pycharm": {
     "name": "#%%\n",
     "is_executing": false
    }
   }
  },
  {
   "cell_type": "code",
   "execution_count": 3,
   "outputs": [],
   "source": [
    "lvs = [\"AGRI\", \"IND\", \"POLINS\"]"
   ],
   "metadata": {
    "collapsed": false,
    "pycharm": {
     "name": "#%%\n",
     "is_executing": false
    }
   }
  },
  {
   "cell_type": "code",
   "execution_count": 4,
   "outputs": [],
   "source": [
    "rus_path = pd.DataFrame(\n",
    "    [[0, 0, 0],\n",
    "     [0, 0, 0],\n",
    "     [1, 1, 0]],\n",
    "    index=lvs,\n",
    "    columns=lvs\n",
    ")\n",
    "#rus_path"
   ],
   "metadata": {
    "collapsed": false,
    "pycharm": {
     "name": "#%%\n",
     "is_executing": false
    }
   }
  },
  {
   "cell_type": "code",
   "execution_count": 6,
   "outputs": [],
   "source": [
    "config = c.Config(rus_path, default_scale=Scale.NUM)"
   ],
   "metadata": {
    "collapsed": false,
    "pycharm": {
     "name": "#%%\n",
     "is_executing": false
    }
   }
  },
  {
   "cell_type": "code",
   "execution_count": 7,
   "outputs": [],
   "source": [
    "config.add_lv(\"AGRI\", Mode.A, c.MV(\"gini\"), c.MV(\"rent\"))\n",
    "config.add_lv(\"IND\", Mode.A, c.MV(\"gnpr\"), c.MV(\"labo\"))\n",
    "config.add_lv(\"POLINS\", Mode.A, c.MV(\"ecks\"), c.MV(\"death\"), c.MV(\"demo\"), c.MV(\"inst\"))"
   ],
   "metadata": {
    "collapsed": false,
    "pycharm": {
     "name": "#%%\n",
     "is_executing": false
    }
   }
  },
  {
   "cell_type": "code",
   "execution_count": 8,
   "outputs": [
    {
     "name": "stderr",
     "text": [
      "C:\\Users\\kimkw\\Anaconda2\\envs\\FirstStep\\lib\\site-packages\\numpy\\core\\fromnumeric.py:2389: FutureWarning: Method .ptp is deprecated and will be removed in a future version. Use numpy.ptp instead.\n  return ptp(axis=axis, out=out, **kwargs)\n"
     ],
     "output_type": "stream"
    }
   ],
   "source": [
    "plspm_calc = Plspm(russa, config, Scheme.CENTROID, 100, 0.0000001)"
   ],
   "metadata": {
    "collapsed": false,
    "pycharm": {
     "name": "#%%\n",
     "is_executing": false
    }
   }
  },
  {
   "cell_type": "code",
   "execution_count": 9,
   "outputs": [
    {
     "name": "stdout",
     "text": [
      "              type  r_squared  block_communality  mean_redundancy       ave\nAGRI     Exogenous   0.000000           0.663516         0.000000  0.663516\nIND      Exogenous   0.000000           0.907523         0.000000  0.907523\nPOLINS  Endogenous   0.590419           0.565509         0.333887  0.565509\n"
     ],
     "output_type": "stream"
    }
   ],
   "source": [
    "print(plspm_calc.inner_summary())"
   ],
   "metadata": {
    "collapsed": false,
    "pycharm": {
     "name": "#%%\n",
     "is_executing": false
    }
   }
  },
  {
   "cell_type": "code",
   "execution_count": 10,
   "outputs": [
    {
     "name": "stdout",
     "text": [
      "                from      to    direct  indirect     total\nAGRI -> POLINS  AGRI  POLINS  0.229324       0.0  0.229324\nIND -> POLINS    IND  POLINS  0.681631       0.0  0.681631\n"
     ],
     "output_type": "stream"
    }
   ],
   "source": [
    "print(plspm_calc.effects())\n",
    "\n"
   ],
   "metadata": {
    "collapsed": false,
    "pycharm": {
     "name": "#%%\n",
     "is_executing": false
    }
   }
  },
  {
   "cell_type": "code",
   "execution_count": null,
   "outputs": [],
   "source": [
    "\n"
   ],
   "metadata": {
    "collapsed": false,
    "pycharm": {
     "name": "#%%\n"
    }
   }
  }
 ],
 "metadata": {
  "kernelspec": {
   "display_name": "Python 3",
   "language": "python",
   "name": "python3"
  },
  "language_info": {
   "codemirror_mode": {
    "name": "ipython",
    "version": 2
   },
   "file_extension": ".py",
   "mimetype": "text/x-python",
   "name": "python",
   "nbconvert_exporter": "python",
   "pygments_lexer": "ipython2",
   "version": "2.7.6"
  },
  "pycharm": {
   "stem_cell": {
    "cell_type": "raw",
    "source": [],
    "metadata": {
     "collapsed": false
    }
   }
  }
 },
 "nbformat": 4,
 "nbformat_minor": 0
}