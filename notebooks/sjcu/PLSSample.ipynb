{
 "cells": [
  {
   "cell_type": "code",
   "execution_count": null,
   "outputs": [],
   "source": [
    "import pandas as pd\n",
    "import plspm.config as c\n",
    "from plspm.plspm import Plspm\n",
    "from plspm.scheme import Scheme\n",
    "from plspm.mode import Mode"
   ],
   "metadata": {
    "collapsed": false,
    "pycharm": {
     "name": "#%%\n"
    }
   }
  },
  {
   "cell_type": "code",
   "execution_count": null,
   "outputs": [],
   "source": [
    "satisfaction = pd.read_csv('../../data/sjcu/satisfaction.csv', index_col=0)\n",
    "#satisfaction"
   ],
   "metadata": {
    "collapsed": false,
    "pycharm": {
     "name": "#%%\n"
    }
   }
  },
  {
   "cell_type": "code",
   "execution_count": null,
   "outputs": [],
   "source": [
    "lvs=[\"IMAG\", \"EXPE\", \"QUAL\", \"VAL\", \"SAT\", \"LOY\"]"
   ],
   "metadata": {
    "collapsed": false,
    "pycharm": {
     "name": "#%%\n"
    }
   }
  },
  {
   "cell_type": "code",
   "execution_count": null,
   "outputs": [],
   "source": [
    "sat_path_matrix = pd.DataFrame(\n",
    "    [[0,0,0,0,0,0],\n",
    "     [1,0,0,0,0,0],\n",
    "     [0,1,0,0,0,0],\n",
    "     [0,1,1,0,0,0],\n",
    "     [1,1,1,1,0,0],\n",
    "     [1,0,0,0,1,0]],\n",
    "    index=lvs, columns=lvs\n",
    ")"
   ],
   "metadata": {
    "collapsed": false,
    "pycharm": {
     "name": "#%%\n"
    }
   }
  },
  {
   "cell_type": "code",
   "execution_count": null,
   "outputs": [],
   "source": [
    "config = c.Config(sat_path_matrix, scaled=False)"
   ],
   "metadata": {
    "collapsed": false,
    "pycharm": {
     "name": "#%%\n"
    }
   }
  },
  {
   "cell_type": "code",
   "execution_count": null,
   "outputs": [],
   "source": [
    "config.add_lv_with_columns_named(\"IMAG\", Mode.A, satisfaction, \"imag\")\n",
    "config.add_lv_with_columns_named(\"EXPE\", Mode.A, satisfaction, \"expe\")\n",
    "config.add_lv_with_columns_named(\"QUAL\", Mode.A, satisfaction, \"qual\")\n",
    "config.add_lv_with_columns_named(\"VAL\", Mode.A, satisfaction, \"val\")\n",
    "config.add_lv_with_columns_named(\"SAT\", Mode.A, satisfaction, \"sat\")\n",
    "config.add_lv_with_columns_named(\"LOY\", Mode.A, satisfaction, \"loy\")"
   ],
   "metadata": {
    "collapsed": false,
    "pycharm": {
     "name": "#%%\n"
    }
   }
  },
  {
   "cell_type": "code",
   "execution_count": null,
   "outputs": [],
   "source": [
    "plspm_calc = Plspm(satisfaction, config, Scheme.CENTROID,bootstrap=True, bootstrap_iterations=200)"
   ],
   "metadata": {
    "collapsed": false,
    "pycharm": {
     "name": "#%%\n"
    }
   }
  },
  {
   "cell_type": "code",
   "execution_count": 8,
   "outputs": [
    {
     "name": "stdout",
     "text": [
      "            type  r_squared  block_communality  mean_redundancy       ave\nEXPE  Endogenous   0.335194           0.616420         0.206620  0.616420\nIMAG   Exogenous   0.000000           0.582269         0.000000  0.582269\nLOY   Endogenous   0.509923           0.639052         0.325867  0.639052\nQUAL  Endogenous   0.719688           0.658572         0.473966  0.658572\nSAT   Endogenous   0.707321           0.758891         0.536779  0.758891\nVAL   Endogenous   0.590084           0.664416         0.392061  0.664416\n"
     ],
     "output_type": "stream"
    }
   ],
   "source": [
    "print(plspm_calc.inner_summary())"
   ],
   "metadata": {
    "collapsed": false,
    "pycharm": {
     "name": "#%%\n",
     "is_executing": false
    }
   }
  },
  {
   "cell_type": "code",
   "execution_count": 9,
   "outputs": [
    {
     "name": "stdout",
     "text": [
      "0.6097416243384108\n"
     ],
     "output_type": "stream"
    }
   ],
   "source": [
    "print(plspm_calc.goodness_of_fit())"
   ],
   "metadata": {
    "collapsed": false,
    "pycharm": {
     "name": "#%%\n",
     "is_executing": false
    }
   }
  },
  {
   "cell_type": "code",
   "execution_count": 10,
   "outputs": [
    {
     "name": "stdout",
     "text": [
      "     mode  mvs  cronbach_alpha  dillon_goldstein_rho   eig_1st   eig_2nd\nIMAG    A  5.0        0.830227              0.882203  3.017810  0.777636\nEXPE    A  5.0        0.846584              0.890855  3.102314  0.610547\nQUAL    A  5.0        0.871325              0.906900  3.305987  0.567777\nVAL     A  4.0        0.835723              0.890444  2.681531  0.600684\nSAT     A  4.0        0.894011              0.926701  3.039999  0.422000\nLOY     A  4.0        0.819422              0.881371  2.604721  0.573455\n"
     ],
     "output_type": "stream"
    }
   ],
   "source": [
    "print(plspm_calc.unidimensionality())"
   ],
   "metadata": {
    "collapsed": false,
    "pycharm": {
     "name": "#%%\n",
     "is_executing": false
    }
   }
  },
  {
   "cell_type": "code",
   "execution_count": 11,
   "outputs": [
    {
     "name": "stdout",
     "text": [
      "          IMAG      EXPE      QUAL       VAL       SAT  LOY\nIMAG  0.000000  0.000000  0.000000  0.000000  0.000000    0\nEXPE  0.578959  0.000000  0.000000  0.000000  0.000000    0\nQUAL  0.000000  0.848344  0.000000  0.000000  0.000000    0\nVAL   0.000000  0.105478  0.676656  0.000000  0.000000    0\nSAT   0.200724 -0.002754  0.122145  0.589331  0.000000    0\nLOY   0.275150  0.000000  0.000000  0.000000  0.495479    0\n"
     ],
     "output_type": "stream"
    }
   ],
   "source": [
    "print(plspm_calc.path_coefficients())"
   ],
   "metadata": {
    "collapsed": false,
    "pycharm": {
     "name": "#%%\n",
     "is_executing": false
    }
   }
  },
  {
   "cell_type": "code",
   "execution_count": 12,
   "outputs": [
    {
     "name": "stdout",
     "text": [
      "              from    to    direct  indirect     total\nIMAG -> EXPE  IMAG  EXPE  0.578959  0.000000  0.578959\nIMAG -> QUAL  IMAG  QUAL  0.000000  0.491157  0.491157\nIMAG -> VAL   IMAG   VAL  0.000000  0.393411  0.393411\nIMAG -> SAT   IMAG   SAT  0.200724  0.290247  0.490971\nIMAG -> LOY   IMAG   LOY  0.275150  0.243266  0.518416\nEXPE -> QUAL  EXPE  QUAL  0.848344  0.000000  0.848344\nEXPE -> VAL   EXPE   VAL  0.105478  0.574037  0.679515\nEXPE -> SAT   EXPE   SAT -0.002754  0.504079  0.501325\nEXPE -> LOY   EXPE   LOY  0.000000  0.248396  0.248396\nQUAL -> VAL   QUAL   VAL  0.676656  0.000000  0.676656\nQUAL -> SAT   QUAL   SAT  0.122145  0.398774  0.520918\nQUAL -> LOY   QUAL   LOY  0.000000  0.258104  0.258104\nVAL -> SAT     VAL   SAT  0.589331  0.000000  0.589331\nVAL -> LOY     VAL   LOY  0.000000  0.292001  0.292001\nSAT -> LOY     SAT   LOY  0.495479  0.000000  0.495479\n"
     ],
     "output_type": "stream"
    }
   ],
   "source": [
    "print(plspm_calc.effects())"
   ],
   "metadata": {
    "collapsed": false,
    "pycharm": {
     "name": "#%%\n",
     "is_executing": false
    }
   }
  },
  {
   "cell_type": "code",
   "execution_count": 13,
   "outputs": [
    {
     "name": "stdout",
     "text": [
      "{'EXPE':       estimate  std error          t         p>|t|\nIMAG  0.578959   0.051775  11.182172  8.962852e-24, 'QUAL':       estimate  std error          t         p>|t|\nEXPE  0.848344    0.03362  25.233493  1.916702e-70, 'VAL':       estimate  std error         t         p>|t|\nEXPE  0.105478   0.076945  1.370826  1.716735e-01\nQUAL  0.676656   0.076945  8.794062  2.519448e-16, 'SAT':       estimate  std error         t         p>|t|\nIMAG  0.200724   0.049929  4.020214  7.744635e-05\nEXPE -0.002754   0.065691 -0.041924  9.665937e-01\nQUAL  0.122145   0.075197  1.624328  1.055915e-01\nVAL   0.589331   0.060016  9.819486  2.097494e-19, 'LOY':       estimate  std error         t         p>|t|\nIMAG  0.275150   0.061713  4.458509  1.253204e-05\nSAT   0.495479   0.061713  8.028720  4.014164e-14}",
      "\n"
     ],
     "output_type": "stream"
    }
   ],
   "source": [
    "print(plspm_calc.inner_model())"
   ],
   "metadata": {
    "collapsed": false,
    "pycharm": {
     "name": "#%%\n",
     "is_executing": false
    }
   }
  },
  {
   "cell_type": "code",
   "execution_count": 14,
   "outputs": [
    {
     "name": "stdout",
     "text": [
      "         weight   loading  communality  redundancy\nexpe1  0.106230  0.765801     0.586451    0.196574\nexpe2  0.140693  0.837419     0.701271    0.235061\nexpe3  0.118783  0.759821     0.577327    0.193516\nexpe4  0.099451  0.718345     0.516020    0.172967\nexpe5  0.138374  0.837276     0.701031    0.234981\nimag1  0.098242  0.709327     0.503144    0.000000\nimag2  0.157473  0.877308     0.769669    0.000000\nimag3  0.156722  0.841749     0.708541    0.000000\nimag4  0.076576  0.569193     0.323981    0.000000\nimag5  0.184330  0.778467     0.606011    0.000000\nloy1   0.158625  0.906587     0.821900    0.419105\nloy2   0.081728  0.671101     0.450377    0.229657\nloy3   0.161665  0.904974     0.818977    0.417615\nloy4   0.080669  0.681874     0.464952    0.237090\nqual1  0.106607  0.781469     0.610694    0.439509\nqual2  0.134595  0.881558     0.777145    0.559302\nqual3  0.117142  0.794076     0.630557    0.453804\nqual4  0.095618  0.788982     0.622492    0.448001\nqual5  0.115708  0.807447     0.651970    0.469215\nsat1   0.166367  0.919798     0.846028    0.598414\nsat2   0.162660  0.916030     0.839111    0.593521\nsat3   0.121091  0.825879     0.682075    0.482446\nsat4   0.132079  0.817525     0.668348    0.472736\nval1   0.174961  0.864822     0.747917    0.441334\nval2   0.117670  0.796239     0.633996    0.374111\nval3   0.120789  0.750065     0.562597    0.331980\nval4   0.166526  0.844483     0.713152    0.420820\n"
     ],
     "output_type": "stream"
    }
   ],
   "source": [
    "print(plspm_calc.outer_model())"
   ],
   "metadata": {
    "collapsed": false,
    "pycharm": {
     "name": "#%%\n",
     "is_executing": false
    }
   }
  },
  {
   "cell_type": "code",
   "execution_count": 15,
   "outputs": [
    {
     "name": "stdout",
     "text": [
      "           IMAG      EXPE      QUAL       VAL       SAT       LOY\nimag1  0.709327  0.313711  0.312979  0.424831  0.394306  0.397233\nimag2  0.877308  0.480405  0.533504  0.608117  0.597196  0.543674\nimag3  0.841749  0.477454  0.515335  0.662712  0.645650  0.555347\nimag4  0.569193  0.270305  0.313187  0.405621  0.345706  0.347140\nimag5  0.778467  0.532220  0.589458  0.538946  0.555712  0.474396\nexpe1  0.401794  0.765801  0.631276  0.499776  0.462934  0.362549\nexpe2  0.510655  0.837419  0.748941  0.590513  0.546955  0.420130\nexpe3  0.406133  0.759821  0.626942  0.478565  0.414613  0.322962\nexpe4  0.491702  0.718345  0.620523  0.560969  0.509099  0.445662\nexpe5  0.476073  0.837276  0.694522  0.555582  0.506937  0.385870\nqual1  0.460634  0.684603  0.781469  0.597792  0.554319  0.503971\nqual2  0.551699  0.745640  0.881558  0.687295  0.629327  0.528263\nqual3  0.444622  0.665559  0.794076  0.580125  0.501386  0.378753\nqual4  0.631980  0.625522  0.788982  0.635332  0.591831  0.604012\nqual5  0.523643  0.708375  0.807447  0.614471  0.570592  0.508369\nval1   0.628275  0.662848  0.713268  0.864822  0.750301  0.591288\nval2   0.509941  0.472659  0.554378  0.796239  0.676131  0.573890\nval3   0.484928  0.431812  0.514394  0.750065  0.540378  0.483895\nval4   0.636837  0.590616  0.669137  0.844483  0.696056  0.607207\nsat1   0.647837  0.585366  0.653964  0.804714  0.919798  0.671693\nsat2   0.641657  0.623323  0.711169  0.795433  0.916030  0.602468\nsat3   0.522719  0.452579  0.542937  0.622223  0.825879  0.493042\nsat4   0.584768  0.461389  0.497677  0.608267  0.817525  0.604367\nloy1   0.569637  0.456599  0.555455  0.651688  0.663799  0.906587\nloy2   0.409706  0.306132  0.378045  0.403192  0.398968  0.671101\nloy3   0.572424  0.476182  0.592181  0.646973  0.656905  0.904974\nloy4   0.374463  0.222617  0.339639  0.432992  0.344227  0.681874\n"
     ],
     "output_type": "stream"
    }
   ],
   "source": [
    "print(plspm_calc.crossloadings())"
   ],
   "metadata": {
    "collapsed": false,
    "pycharm": {
     "name": "#%%\n",
     "is_executing": false
    }
   }
  },
  {
   "cell_type": "code",
   "execution_count": 16,
   "outputs": [
    {
     "name": "stdout",
     "text": [
      "         IMAG      EXPE      QUAL       VAL       SAT       LOY\n1   -0.064483  0.344243 -0.525401 -0.071040 -0.205830  0.166443\n2    0.838588  0.797466  0.397127  0.443211  0.369086  0.492486\n3    0.475425  0.553121  0.164278  0.560881  0.830191  0.811716\n4    0.426902  0.128105 -0.689206 -0.811273 -0.050451 -0.796949\n5    1.041764  0.449210  0.725595  1.215879  0.531745  0.734820\n..        ...       ...       ...       ...       ...       ...\n246  0.866196 -0.809331 -0.069256  1.215879  0.531745  0.088677\n247  0.614802  0.341665  0.129371  0.856631  0.051047 -1.597211\n248  0.377183 -0.735504 -1.339869 -0.851219  0.237007 -0.160280\n249  0.385075 -0.078618  0.285923  0.635933  0.535452 -0.149558\n250  0.682172 -0.679050 -0.766602  0.389040 -0.050451 -0.236633\n\n[250 rows x 6 columns]\n"
     ],
     "output_type": "stream"
    }
   ],
   "source": [
    "print(plspm_calc.scores())"
   ],
   "metadata": {
    "collapsed": false,
    "pycharm": {
     "name": "#%%\n",
     "is_executing": false
    }
   }
  },
  {
   "cell_type": "code",
   "execution_count": 17,
   "outputs": [
    {
     "name": "stdout",
     "text": [
      "      original      mean  std.error  perc.025  perc.975\nEXPE  0.378223  0.338869   0.059795  0.219546  0.431724\nQUAL  0.753410  0.719914   0.036379  0.643395  0.782875\nVAL   0.600754  0.589514   0.056311  0.485935  0.706700\nSAT   0.748190  0.718878   0.030495  0.667423  0.778235\nLOY   0.535384  0.513887   0.050593  0.416526  0.607243\n"
     ],
     "output_type": "stream"
    }
   ],
   "source": [
    "print(plspm_calc.bootstrap().r_squared())"
   ],
   "metadata": {
    "collapsed": false,
    "pycharm": {
     "name": "#%%\n",
     "is_executing": false
    }
   }
  },
  {
   "cell_type": "code",
   "execution_count": 18,
   "outputs": [
    {
     "name": "stdout",
     "text": [
      "              original      mean  std.error  perc.025  perc.975\nIMAG -> EXPE  0.614999  0.579753   0.052624  0.468557  0.657055\nIMAG -> SAT   0.226545  0.203185   0.052770  0.104147  0.293035\nIMAG -> LOY   0.163805  0.282870   0.067396  0.164462  0.397606\nEXPE -> QUAL  0.867992  0.848205   0.021543  0.802119  0.884802\nEXPE -> VAL   0.081491  0.110022   0.072324 -0.020242  0.257380\nEXPE -> SAT  -0.022357 -0.006196   0.063454 -0.125330  0.113141\nQUAL -> VAL   0.703293  0.670466   0.075296  0.519497  0.810514\nQUAL -> SAT   0.078249  0.134121   0.082362 -0.007573  0.304797\nVAL -> SAT    0.650523  0.583507   0.081978  0.426196  0.729782\nSAT -> LOY    0.608565  0.487915   0.065433  0.368716  0.607187\n"
     ],
     "output_type": "stream"
    }
   ],
   "source": [
    "print(plspm_calc.bootstrap().paths())"
   ],
   "metadata": {
    "collapsed": false,
    "pycharm": {
     "name": "#%%\n",
     "is_executing": false
    }
   }
  },
  {
   "cell_type": "code",
   "execution_count": null,
   "outputs": [],
   "source": [],
   "metadata": {
    "collapsed": false,
    "pycharm": {
     "name": "#%%\n"
    }
   }
  }
 ],
 "metadata": {
  "kernelspec": {
   "display_name": "Python 3",
   "language": "python",
   "name": "python3"
  },
  "language_info": {
   "codemirror_mode": {
    "name": "ipython",
    "version": 2
   },
   "file_extension": ".py",
   "mimetype": "text/x-python",
   "name": "python",
   "nbconvert_exporter": "python",
   "pygments_lexer": "ipython2",
   "version": "2.7.6"
  },
  "pycharm": {
   "stem_cell": {
    "cell_type": "raw",
    "source": [],
    "metadata": {
     "collapsed": false
    }
   }
  }
 },
 "nbformat": 4,
 "nbformat_minor": 0
}