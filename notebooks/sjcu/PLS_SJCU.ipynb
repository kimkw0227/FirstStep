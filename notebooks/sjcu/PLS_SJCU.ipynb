{
 "cells": [
  {
   "cell_type": "code",
   "execution_count": 8,
   "metadata": {
    "collapsed": true,
    "pycharm": {
     "is_executing": false
    }
   },
   "outputs": [],
   "source": [
    "import pandas as pd\n",
    "import plspm.config as c\n",
    "from plspm.plspm import Plspm\n",
    "from plspm.scheme import Scheme\n",
    "from plspm.mode import Mode"
   ]
  },
  {
   "cell_type": "code",
   "execution_count": 9,
   "outputs": [],
   "source": [
    "satisfaction = pd.read_csv('../../data/sjcu/satisfaction.csv', index_col=0)\n",
    "#satisfaction"
   ],
   "metadata": {
    "collapsed": false,
    "pycharm": {
     "name": "#%%\n",
     "is_executing": false
    }
   }
  },
  {
   "cell_type": "code",
   "execution_count": 10,
   "outputs": [],
   "source": [
    "lvs=[\"IMAG\", \"EXPE\", \"QUAL\", \"VAL\", \"SAT\", \"LOY\"]"
   ],
   "metadata": {
    "collapsed": false,
    "pycharm": {
     "name": "#%%\n",
     "is_executing": false
    }
   }
  },
  {
   "cell_type": "code",
   "execution_count": 11,
   "outputs": [],
   "source": [
    "sat_path_matrix = pd.DataFrame(\n",
    "    [[0,0,0,0,0,0],\n",
    "     [1,0,0,0,0,0],\n",
    "     [0,1,0,0,0,0],\n",
    "     [0,1,1,0,0,0],\n",
    "     [1,1,1,1,0,0],\n",
    "     [1,0,0,0,1,0]],\n",
    "    index=lvs, columns=lvs\n",
    ")"
   ],
   "metadata": {
    "collapsed": false,
    "pycharm": {
     "name": "#%%\n",
     "is_executing": false
    }
   }
  },
  {
   "cell_type": "code",
   "execution_count": 12,
   "outputs": [],
   "source": [
    "config = c.Config(sat_path_matrix, scaled=False)"
   ],
   "metadata": {
    "collapsed": false,
    "pycharm": {
     "name": "#%%\n",
     "is_executing": false
    }
   }
  },
  {
   "cell_type": "code",
   "execution_count": 13,
   "outputs": [],
   "source": [
    "config.add_lv_with_columns_named(\"IMAG\", Mode.A, satisfaction, \"imag\")\n",
    "config.add_lv_with_columns_named(\"EXPE\", Mode.A, satisfaction, \"expe\")\n",
    "config.add_lv_with_columns_named(\"QUAL\", Mode.A, satisfaction, \"qual\")\n",
    "config.add_lv_with_columns_named(\"VAL\", Mode.A, satisfaction, \"val\")\n",
    "config.add_lv_with_columns_named(\"SAT\", Mode.A, satisfaction, \"sat\")\n",
    "config.add_lv_with_columns_named(\"LOY\", Mode.A, satisfaction, \"loy\")"
   ],
   "metadata": {
    "collapsed": false,
    "pycharm": {
     "name": "#%%\n",
     "is_executing": false
    }
   }
  },
  {
   "cell_type": "code",
   "execution_count": 14,
   "outputs": [
    {
     "name": "stderr",
     "text": [
      "C:\\Users\\kimkw\\Anaconda2\\envs\\FirstStep\\lib\\site-packages\\numpy\\core\\fromnumeric.py:2389: FutureWarning: Method .ptp is deprecated and will be removed in a future version. Use numpy.ptp instead.\n  return ptp(axis=axis, out=out, **kwargs)\n"
     ],
     "output_type": "stream"
    }
   ],
   "source": [
    "plspm_calc = Plspm(satisfaction, config, Scheme.CENTROID,bootstrap=True, bootstrap_iterations=200)"
   ],
   "metadata": {
    "collapsed": false,
    "pycharm": {
     "name": "#%%\n",
     "is_executing": false
    }
   }
  },
  {
   "cell_type": "code",
   "execution_count": 15,
   "outputs": [
    {
     "data": {
      "text/plain": "     mode  mvs  cronbach_alpha  dillon_goldstein_rho   eig_1st   eig_2nd\nIMAG    A  5.0        0.830227              0.882203  3.017810  0.777636\nEXPE    A  5.0        0.846584              0.890855  3.102314  0.610547\nQUAL    A  5.0        0.871325              0.906900  3.305987  0.567777\nVAL     A  4.0        0.835723              0.890444  2.681531  0.600684\nSAT     A  4.0        0.894011              0.926701  3.039999  0.422000\nLOY     A  4.0        0.819422              0.881371  2.604721  0.573455",
      "text/html": "<div>\n<style scoped>\n    .dataframe tbody tr th:only-of-type {\n        vertical-align: middle;\n    }\n\n    .dataframe tbody tr th {\n        vertical-align: top;\n    }\n\n    .dataframe thead th {\n        text-align: right;\n    }\n</style>\n<table border=\"1\" class=\"dataframe\">\n  <thead>\n    <tr style=\"text-align: right;\">\n      <th></th>\n      <th>mode</th>\n      <th>mvs</th>\n      <th>cronbach_alpha</th>\n      <th>dillon_goldstein_rho</th>\n      <th>eig_1st</th>\n      <th>eig_2nd</th>\n    </tr>\n  </thead>\n  <tbody>\n    <tr>\n      <td>IMAG</td>\n      <td>A</td>\n      <td>5.0</td>\n      <td>0.830227</td>\n      <td>0.882203</td>\n      <td>3.017810</td>\n      <td>0.777636</td>\n    </tr>\n    <tr>\n      <td>EXPE</td>\n      <td>A</td>\n      <td>5.0</td>\n      <td>0.846584</td>\n      <td>0.890855</td>\n      <td>3.102314</td>\n      <td>0.610547</td>\n    </tr>\n    <tr>\n      <td>QUAL</td>\n      <td>A</td>\n      <td>5.0</td>\n      <td>0.871325</td>\n      <td>0.906900</td>\n      <td>3.305987</td>\n      <td>0.567777</td>\n    </tr>\n    <tr>\n      <td>VAL</td>\n      <td>A</td>\n      <td>4.0</td>\n      <td>0.835723</td>\n      <td>0.890444</td>\n      <td>2.681531</td>\n      <td>0.600684</td>\n    </tr>\n    <tr>\n      <td>SAT</td>\n      <td>A</td>\n      <td>4.0</td>\n      <td>0.894011</td>\n      <td>0.926701</td>\n      <td>3.039999</td>\n      <td>0.422000</td>\n    </tr>\n    <tr>\n      <td>LOY</td>\n      <td>A</td>\n      <td>4.0</td>\n      <td>0.819422</td>\n      <td>0.881371</td>\n      <td>2.604721</td>\n      <td>0.573455</td>\n    </tr>\n  </tbody>\n</table>\n</div>"
     },
     "metadata": {},
     "output_type": "execute_result",
     "execution_count": 15
    }
   ],
   "source": [
    "# 신뢰도 평가\n",
    "plspm_calc.unidimensionality()\n"
   ],
   "metadata": {
    "collapsed": false,
    "pycharm": {
     "name": "#%%\n",
     "is_executing": false
    }
   }
  },
  {
   "cell_type": "code",
   "execution_count": 16,
   "outputs": [
    {
     "data": {
      "text/plain": "       original      mean  std.error  perc.025  perc.975\nimag1  0.709327  0.706006   0.064408  0.569426  0.818975\nimag2  0.877308  0.875318   0.022437  0.830435  0.914195\nimag3  0.841749  0.844049   0.027585  0.792274  0.895677\nimag4  0.569193  0.566467   0.075616  0.388005  0.690212\nimag5  0.778467  0.779897   0.039087  0.709812  0.850944\nexpe1  0.765801  0.765914   0.041935  0.677173  0.843329\nexpe2  0.837419  0.838601   0.024041  0.787707  0.883287\nexpe3  0.759821  0.755106   0.044343  0.676063  0.830844\nexpe4  0.718345  0.712141   0.048110  0.609130  0.795104\nexpe5  0.837276  0.836761   0.027474  0.777312  0.882105\nqual1  0.781469  0.783708   0.051887  0.652579  0.861823\nqual2  0.881558  0.883593   0.017319  0.847052  0.911856\nqual3  0.794076  0.795098   0.036097  0.717535  0.855659\nqual4  0.788982  0.784043   0.043694  0.687843  0.862985\nqual5  0.807447  0.805541   0.037880  0.721156  0.871453\nval1   0.864822  0.866068   0.022976  0.818236  0.909780\nval2   0.796239  0.793365   0.042259  0.708237  0.862349\nval3   0.750065  0.757818   0.056835  0.630952  0.848694\nval4   0.844483  0.845516   0.029934  0.781076  0.891703\nsat1   0.919798  0.919260   0.012496  0.891762  0.940558\nsat2   0.916030  0.916647   0.012679  0.891807  0.936966\nsat3   0.825879  0.822741   0.037343  0.734098  0.884773\nsat4   0.817525  0.814051   0.039269  0.730284  0.874604\nloy1   0.906587  0.908504   0.016781  0.877365  0.936529\nloy2   0.671101  0.668438   0.067306  0.531952  0.784292\nloy3   0.904974  0.906118   0.017087  0.868889  0.936514\nloy4   0.681874  0.669962   0.072667  0.520763  0.808084",
      "text/html": "<div>\n<style scoped>\n    .dataframe tbody tr th:only-of-type {\n        vertical-align: middle;\n    }\n\n    .dataframe tbody tr th {\n        vertical-align: top;\n    }\n\n    .dataframe thead th {\n        text-align: right;\n    }\n</style>\n<table border=\"1\" class=\"dataframe\">\n  <thead>\n    <tr style=\"text-align: right;\">\n      <th></th>\n      <th>original</th>\n      <th>mean</th>\n      <th>std.error</th>\n      <th>perc.025</th>\n      <th>perc.975</th>\n    </tr>\n  </thead>\n  <tbody>\n    <tr>\n      <td>imag1</td>\n      <td>0.709327</td>\n      <td>0.706006</td>\n      <td>0.064408</td>\n      <td>0.569426</td>\n      <td>0.818975</td>\n    </tr>\n    <tr>\n      <td>imag2</td>\n      <td>0.877308</td>\n      <td>0.875318</td>\n      <td>0.022437</td>\n      <td>0.830435</td>\n      <td>0.914195</td>\n    </tr>\n    <tr>\n      <td>imag3</td>\n      <td>0.841749</td>\n      <td>0.844049</td>\n      <td>0.027585</td>\n      <td>0.792274</td>\n      <td>0.895677</td>\n    </tr>\n    <tr>\n      <td>imag4</td>\n      <td>0.569193</td>\n      <td>0.566467</td>\n      <td>0.075616</td>\n      <td>0.388005</td>\n      <td>0.690212</td>\n    </tr>\n    <tr>\n      <td>imag5</td>\n      <td>0.778467</td>\n      <td>0.779897</td>\n      <td>0.039087</td>\n      <td>0.709812</td>\n      <td>0.850944</td>\n    </tr>\n    <tr>\n      <td>expe1</td>\n      <td>0.765801</td>\n      <td>0.765914</td>\n      <td>0.041935</td>\n      <td>0.677173</td>\n      <td>0.843329</td>\n    </tr>\n    <tr>\n      <td>expe2</td>\n      <td>0.837419</td>\n      <td>0.838601</td>\n      <td>0.024041</td>\n      <td>0.787707</td>\n      <td>0.883287</td>\n    </tr>\n    <tr>\n      <td>expe3</td>\n      <td>0.759821</td>\n      <td>0.755106</td>\n      <td>0.044343</td>\n      <td>0.676063</td>\n      <td>0.830844</td>\n    </tr>\n    <tr>\n      <td>expe4</td>\n      <td>0.718345</td>\n      <td>0.712141</td>\n      <td>0.048110</td>\n      <td>0.609130</td>\n      <td>0.795104</td>\n    </tr>\n    <tr>\n      <td>expe5</td>\n      <td>0.837276</td>\n      <td>0.836761</td>\n      <td>0.027474</td>\n      <td>0.777312</td>\n      <td>0.882105</td>\n    </tr>\n    <tr>\n      <td>qual1</td>\n      <td>0.781469</td>\n      <td>0.783708</td>\n      <td>0.051887</td>\n      <td>0.652579</td>\n      <td>0.861823</td>\n    </tr>\n    <tr>\n      <td>qual2</td>\n      <td>0.881558</td>\n      <td>0.883593</td>\n      <td>0.017319</td>\n      <td>0.847052</td>\n      <td>0.911856</td>\n    </tr>\n    <tr>\n      <td>qual3</td>\n      <td>0.794076</td>\n      <td>0.795098</td>\n      <td>0.036097</td>\n      <td>0.717535</td>\n      <td>0.855659</td>\n    </tr>\n    <tr>\n      <td>qual4</td>\n      <td>0.788982</td>\n      <td>0.784043</td>\n      <td>0.043694</td>\n      <td>0.687843</td>\n      <td>0.862985</td>\n    </tr>\n    <tr>\n      <td>qual5</td>\n      <td>0.807447</td>\n      <td>0.805541</td>\n      <td>0.037880</td>\n      <td>0.721156</td>\n      <td>0.871453</td>\n    </tr>\n    <tr>\n      <td>val1</td>\n      <td>0.864822</td>\n      <td>0.866068</td>\n      <td>0.022976</td>\n      <td>0.818236</td>\n      <td>0.909780</td>\n    </tr>\n    <tr>\n      <td>val2</td>\n      <td>0.796239</td>\n      <td>0.793365</td>\n      <td>0.042259</td>\n      <td>0.708237</td>\n      <td>0.862349</td>\n    </tr>\n    <tr>\n      <td>val3</td>\n      <td>0.750065</td>\n      <td>0.757818</td>\n      <td>0.056835</td>\n      <td>0.630952</td>\n      <td>0.848694</td>\n    </tr>\n    <tr>\n      <td>val4</td>\n      <td>0.844483</td>\n      <td>0.845516</td>\n      <td>0.029934</td>\n      <td>0.781076</td>\n      <td>0.891703</td>\n    </tr>\n    <tr>\n      <td>sat1</td>\n      <td>0.919798</td>\n      <td>0.919260</td>\n      <td>0.012496</td>\n      <td>0.891762</td>\n      <td>0.940558</td>\n    </tr>\n    <tr>\n      <td>sat2</td>\n      <td>0.916030</td>\n      <td>0.916647</td>\n      <td>0.012679</td>\n      <td>0.891807</td>\n      <td>0.936966</td>\n    </tr>\n    <tr>\n      <td>sat3</td>\n      <td>0.825879</td>\n      <td>0.822741</td>\n      <td>0.037343</td>\n      <td>0.734098</td>\n      <td>0.884773</td>\n    </tr>\n    <tr>\n      <td>sat4</td>\n      <td>0.817525</td>\n      <td>0.814051</td>\n      <td>0.039269</td>\n      <td>0.730284</td>\n      <td>0.874604</td>\n    </tr>\n    <tr>\n      <td>loy1</td>\n      <td>0.906587</td>\n      <td>0.908504</td>\n      <td>0.016781</td>\n      <td>0.877365</td>\n      <td>0.936529</td>\n    </tr>\n    <tr>\n      <td>loy2</td>\n      <td>0.671101</td>\n      <td>0.668438</td>\n      <td>0.067306</td>\n      <td>0.531952</td>\n      <td>0.784292</td>\n    </tr>\n    <tr>\n      <td>loy3</td>\n      <td>0.904974</td>\n      <td>0.906118</td>\n      <td>0.017087</td>\n      <td>0.868889</td>\n      <td>0.936514</td>\n    </tr>\n    <tr>\n      <td>loy4</td>\n      <td>0.681874</td>\n      <td>0.669962</td>\n      <td>0.072667</td>\n      <td>0.520763</td>\n      <td>0.808084</td>\n    </tr>\n  </tbody>\n</table>\n</div>"
     },
     "metadata": {},
     "output_type": "execute_result",
     "execution_count": 16
    }
   ],
   "source": [
    "plspm_calc.bootstrap().loading()"
   ],
   "metadata": {
    "collapsed": false,
    "pycharm": {
     "name": "#%%\n",
     "is_executing": false
    }
   }
  },
  {
   "cell_type": "code",
   "execution_count": 27,
   "outputs": [],
   "source": [
    "# 집중타당도 평가\n",
    "plspm_calc.bootstrap().loading()['t_value'] = plspm_calc.bootstrap().loading()['original']/plspm_calc.bootstrap().loading()['std.error']"
   ],
   "metadata": {
    "collapsed": false,
    "pycharm": {
     "name": "#%%\n",
     "is_executing": false
    }
   }
  },
  {
   "cell_type": "code",
   "execution_count": 28,
   "outputs": [
    {
     "data": {
      "text/plain": "       original      mean  std.error  perc.025  perc.975    t_value\nimag1  0.709327  0.706006   0.064408  0.569426  0.818975  11.013056\nimag2  0.877308  0.875318   0.022437  0.830435  0.914195  39.100215\nimag3  0.841749  0.844049   0.027585  0.792274  0.895677  30.514629\nimag4  0.569193  0.566467   0.075616  0.388005  0.690212   7.527379\nimag5  0.778467  0.779897   0.039087  0.709812  0.850944  19.916264\nexpe1  0.765801  0.765914   0.041935  0.677173  0.843329  18.261730\nexpe2  0.837419  0.838601   0.024041  0.787707  0.883287  34.833101\nexpe3  0.759821  0.755106   0.044343  0.676063  0.830844  17.134924\nexpe4  0.718345  0.712141   0.048110  0.609130  0.795104  14.931234\nexpe5  0.837276  0.836761   0.027474  0.777312  0.882105  30.475275\nqual1  0.781469  0.783708   0.051887  0.652579  0.861823  15.060946\nqual2  0.881558  0.883593   0.017319  0.847052  0.911856  50.901569\nqual3  0.794076  0.795098   0.036097  0.717535  0.855659  21.998583\nqual4  0.788982  0.784043   0.043694  0.687843  0.862985  18.057105\nqual5  0.807447  0.805541   0.037880  0.721156  0.871453  21.315796\nval1   0.864822  0.866068   0.022976  0.818236  0.909780  37.639697\nval2   0.796239  0.793365   0.042259  0.708237  0.862349  18.841911\nval3   0.750065  0.757818   0.056835  0.630952  0.848694  13.197256\nval4   0.844483  0.845516   0.029934  0.781076  0.891703  28.211175\nsat1   0.919798  0.919260   0.012496  0.891762  0.940558  73.607713\nsat2   0.916030  0.916647   0.012679  0.891807  0.936966  72.250447\nsat3   0.825879  0.822741   0.037343  0.734098  0.884773  22.116178\nsat4   0.817525  0.814051   0.039269  0.730284  0.874604  20.818805\nloy1   0.906587  0.908504   0.016781  0.877365  0.936529  54.025727\nloy2   0.671101  0.668438   0.067306  0.531952  0.784292   9.970959\nloy3   0.904974  0.906118   0.017087  0.868889  0.936514  52.961531\nloy4   0.681874  0.669962   0.072667  0.520763  0.808084   9.383579",
      "text/html": "<div>\n<style scoped>\n    .dataframe tbody tr th:only-of-type {\n        vertical-align: middle;\n    }\n\n    .dataframe tbody tr th {\n        vertical-align: top;\n    }\n\n    .dataframe thead th {\n        text-align: right;\n    }\n</style>\n<table border=\"1\" class=\"dataframe\">\n  <thead>\n    <tr style=\"text-align: right;\">\n      <th></th>\n      <th>original</th>\n      <th>mean</th>\n      <th>std.error</th>\n      <th>perc.025</th>\n      <th>perc.975</th>\n      <th>t_value</th>\n    </tr>\n  </thead>\n  <tbody>\n    <tr>\n      <td>imag1</td>\n      <td>0.709327</td>\n      <td>0.706006</td>\n      <td>0.064408</td>\n      <td>0.569426</td>\n      <td>0.818975</td>\n      <td>11.013056</td>\n    </tr>\n    <tr>\n      <td>imag2</td>\n      <td>0.877308</td>\n      <td>0.875318</td>\n      <td>0.022437</td>\n      <td>0.830435</td>\n      <td>0.914195</td>\n      <td>39.100215</td>\n    </tr>\n    <tr>\n      <td>imag3</td>\n      <td>0.841749</td>\n      <td>0.844049</td>\n      <td>0.027585</td>\n      <td>0.792274</td>\n      <td>0.895677</td>\n      <td>30.514629</td>\n    </tr>\n    <tr>\n      <td>imag4</td>\n      <td>0.569193</td>\n      <td>0.566467</td>\n      <td>0.075616</td>\n      <td>0.388005</td>\n      <td>0.690212</td>\n      <td>7.527379</td>\n    </tr>\n    <tr>\n      <td>imag5</td>\n      <td>0.778467</td>\n      <td>0.779897</td>\n      <td>0.039087</td>\n      <td>0.709812</td>\n      <td>0.850944</td>\n      <td>19.916264</td>\n    </tr>\n    <tr>\n      <td>expe1</td>\n      <td>0.765801</td>\n      <td>0.765914</td>\n      <td>0.041935</td>\n      <td>0.677173</td>\n      <td>0.843329</td>\n      <td>18.261730</td>\n    </tr>\n    <tr>\n      <td>expe2</td>\n      <td>0.837419</td>\n      <td>0.838601</td>\n      <td>0.024041</td>\n      <td>0.787707</td>\n      <td>0.883287</td>\n      <td>34.833101</td>\n    </tr>\n    <tr>\n      <td>expe3</td>\n      <td>0.759821</td>\n      <td>0.755106</td>\n      <td>0.044343</td>\n      <td>0.676063</td>\n      <td>0.830844</td>\n      <td>17.134924</td>\n    </tr>\n    <tr>\n      <td>expe4</td>\n      <td>0.718345</td>\n      <td>0.712141</td>\n      <td>0.048110</td>\n      <td>0.609130</td>\n      <td>0.795104</td>\n      <td>14.931234</td>\n    </tr>\n    <tr>\n      <td>expe5</td>\n      <td>0.837276</td>\n      <td>0.836761</td>\n      <td>0.027474</td>\n      <td>0.777312</td>\n      <td>0.882105</td>\n      <td>30.475275</td>\n    </tr>\n    <tr>\n      <td>qual1</td>\n      <td>0.781469</td>\n      <td>0.783708</td>\n      <td>0.051887</td>\n      <td>0.652579</td>\n      <td>0.861823</td>\n      <td>15.060946</td>\n    </tr>\n    <tr>\n      <td>qual2</td>\n      <td>0.881558</td>\n      <td>0.883593</td>\n      <td>0.017319</td>\n      <td>0.847052</td>\n      <td>0.911856</td>\n      <td>50.901569</td>\n    </tr>\n    <tr>\n      <td>qual3</td>\n      <td>0.794076</td>\n      <td>0.795098</td>\n      <td>0.036097</td>\n      <td>0.717535</td>\n      <td>0.855659</td>\n      <td>21.998583</td>\n    </tr>\n    <tr>\n      <td>qual4</td>\n      <td>0.788982</td>\n      <td>0.784043</td>\n      <td>0.043694</td>\n      <td>0.687843</td>\n      <td>0.862985</td>\n      <td>18.057105</td>\n    </tr>\n    <tr>\n      <td>qual5</td>\n      <td>0.807447</td>\n      <td>0.805541</td>\n      <td>0.037880</td>\n      <td>0.721156</td>\n      <td>0.871453</td>\n      <td>21.315796</td>\n    </tr>\n    <tr>\n      <td>val1</td>\n      <td>0.864822</td>\n      <td>0.866068</td>\n      <td>0.022976</td>\n      <td>0.818236</td>\n      <td>0.909780</td>\n      <td>37.639697</td>\n    </tr>\n    <tr>\n      <td>val2</td>\n      <td>0.796239</td>\n      <td>0.793365</td>\n      <td>0.042259</td>\n      <td>0.708237</td>\n      <td>0.862349</td>\n      <td>18.841911</td>\n    </tr>\n    <tr>\n      <td>val3</td>\n      <td>0.750065</td>\n      <td>0.757818</td>\n      <td>0.056835</td>\n      <td>0.630952</td>\n      <td>0.848694</td>\n      <td>13.197256</td>\n    </tr>\n    <tr>\n      <td>val4</td>\n      <td>0.844483</td>\n      <td>0.845516</td>\n      <td>0.029934</td>\n      <td>0.781076</td>\n      <td>0.891703</td>\n      <td>28.211175</td>\n    </tr>\n    <tr>\n      <td>sat1</td>\n      <td>0.919798</td>\n      <td>0.919260</td>\n      <td>0.012496</td>\n      <td>0.891762</td>\n      <td>0.940558</td>\n      <td>73.607713</td>\n    </tr>\n    <tr>\n      <td>sat2</td>\n      <td>0.916030</td>\n      <td>0.916647</td>\n      <td>0.012679</td>\n      <td>0.891807</td>\n      <td>0.936966</td>\n      <td>72.250447</td>\n    </tr>\n    <tr>\n      <td>sat3</td>\n      <td>0.825879</td>\n      <td>0.822741</td>\n      <td>0.037343</td>\n      <td>0.734098</td>\n      <td>0.884773</td>\n      <td>22.116178</td>\n    </tr>\n    <tr>\n      <td>sat4</td>\n      <td>0.817525</td>\n      <td>0.814051</td>\n      <td>0.039269</td>\n      <td>0.730284</td>\n      <td>0.874604</td>\n      <td>20.818805</td>\n    </tr>\n    <tr>\n      <td>loy1</td>\n      <td>0.906587</td>\n      <td>0.908504</td>\n      <td>0.016781</td>\n      <td>0.877365</td>\n      <td>0.936529</td>\n      <td>54.025727</td>\n    </tr>\n    <tr>\n      <td>loy2</td>\n      <td>0.671101</td>\n      <td>0.668438</td>\n      <td>0.067306</td>\n      <td>0.531952</td>\n      <td>0.784292</td>\n      <td>9.970959</td>\n    </tr>\n    <tr>\n      <td>loy3</td>\n      <td>0.904974</td>\n      <td>0.906118</td>\n      <td>0.017087</td>\n      <td>0.868889</td>\n      <td>0.936514</td>\n      <td>52.961531</td>\n    </tr>\n    <tr>\n      <td>loy4</td>\n      <td>0.681874</td>\n      <td>0.669962</td>\n      <td>0.072667</td>\n      <td>0.520763</td>\n      <td>0.808084</td>\n      <td>9.383579</td>\n    </tr>\n  </tbody>\n</table>\n</div>"
     },
     "metadata": {},
     "output_type": "execute_result",
     "execution_count": 28
    }
   ],
   "source": [
    "plspm_calc.bootstrap().loading()"
   ],
   "metadata": {
    "collapsed": false,
    "pycharm": {
     "name": "#%%\n",
     "is_executing": false
    }
   }
  },
  {
   "cell_type": "code",
   "execution_count": 29,
   "outputs": [
    {
     "data": {
      "text/plain": "            type  r_squared  block_communality  mean_redundancy       ave\nEXPE  Endogenous   0.335194           0.616420         0.206620  0.616420\nIMAG   Exogenous   0.000000           0.582269         0.000000  0.582269\nLOY   Endogenous   0.509923           0.639052         0.325867  0.639052\nQUAL  Endogenous   0.719688           0.658572         0.473966  0.658572\nSAT   Endogenous   0.707321           0.758891         0.536779  0.758891\nVAL   Endogenous   0.590084           0.664416         0.392061  0.664416",
      "text/html": "<div>\n<style scoped>\n    .dataframe tbody tr th:only-of-type {\n        vertical-align: middle;\n    }\n\n    .dataframe tbody tr th {\n        vertical-align: top;\n    }\n\n    .dataframe thead th {\n        text-align: right;\n    }\n</style>\n<table border=\"1\" class=\"dataframe\">\n  <thead>\n    <tr style=\"text-align: right;\">\n      <th></th>\n      <th>type</th>\n      <th>r_squared</th>\n      <th>block_communality</th>\n      <th>mean_redundancy</th>\n      <th>ave</th>\n    </tr>\n  </thead>\n  <tbody>\n    <tr>\n      <td>EXPE</td>\n      <td>Endogenous</td>\n      <td>0.335194</td>\n      <td>0.616420</td>\n      <td>0.206620</td>\n      <td>0.616420</td>\n    </tr>\n    <tr>\n      <td>IMAG</td>\n      <td>Exogenous</td>\n      <td>0.000000</td>\n      <td>0.582269</td>\n      <td>0.000000</td>\n      <td>0.582269</td>\n    </tr>\n    <tr>\n      <td>LOY</td>\n      <td>Endogenous</td>\n      <td>0.509923</td>\n      <td>0.639052</td>\n      <td>0.325867</td>\n      <td>0.639052</td>\n    </tr>\n    <tr>\n      <td>QUAL</td>\n      <td>Endogenous</td>\n      <td>0.719688</td>\n      <td>0.658572</td>\n      <td>0.473966</td>\n      <td>0.658572</td>\n    </tr>\n    <tr>\n      <td>SAT</td>\n      <td>Endogenous</td>\n      <td>0.707321</td>\n      <td>0.758891</td>\n      <td>0.536779</td>\n      <td>0.758891</td>\n    </tr>\n    <tr>\n      <td>VAL</td>\n      <td>Endogenous</td>\n      <td>0.590084</td>\n      <td>0.664416</td>\n      <td>0.392061</td>\n      <td>0.664416</td>\n    </tr>\n  </tbody>\n</table>\n</div>"
     },
     "metadata": {},
     "output_type": "execute_result",
     "execution_count": 29
    }
   ],
   "source": [
    "plspm_calc.inner_summary()"
   ],
   "metadata": {
    "collapsed": false,
    "pycharm": {
     "name": "#%%\n",
     "is_executing": false
    }
   }
  },
  {
   "cell_type": "code",
   "execution_count": 30,
   "outputs": [
    {
     "data": {
      "text/plain": "           IMAG      EXPE      QUAL       VAL       SAT       LOY\nimag1  0.709327  0.313711  0.312979  0.424831  0.394306  0.397233\nimag2  0.877308  0.480405  0.533504  0.608117  0.597196  0.543674\nimag3  0.841749  0.477454  0.515335  0.662712  0.645650  0.555347\nimag4  0.569193  0.270305  0.313187  0.405621  0.345706  0.347140\nimag5  0.778467  0.532220  0.589458  0.538946  0.555712  0.474396\nexpe1  0.401794  0.765801  0.631276  0.499776  0.462934  0.362549\nexpe2  0.510655  0.837419  0.748941  0.590513  0.546955  0.420130\nexpe3  0.406133  0.759821  0.626942  0.478565  0.414613  0.322962\nexpe4  0.491702  0.718345  0.620523  0.560969  0.509099  0.445662\nexpe5  0.476073  0.837276  0.694522  0.555582  0.506937  0.385870\nqual1  0.460634  0.684603  0.781469  0.597792  0.554319  0.503971\nqual2  0.551699  0.745640  0.881558  0.687295  0.629327  0.528263\nqual3  0.444622  0.665559  0.794076  0.580125  0.501386  0.378753\nqual4  0.631980  0.625522  0.788982  0.635332  0.591831  0.604012\nqual5  0.523643  0.708375  0.807447  0.614471  0.570592  0.508369\nval1   0.628275  0.662848  0.713268  0.864822  0.750301  0.591288\nval2   0.509941  0.472659  0.554378  0.796239  0.676131  0.573890\nval3   0.484928  0.431812  0.514394  0.750065  0.540378  0.483895\nval4   0.636837  0.590616  0.669137  0.844483  0.696056  0.607207\nsat1   0.647837  0.585366  0.653964  0.804714  0.919798  0.671693\nsat2   0.641657  0.623323  0.711169  0.795433  0.916030  0.602468\nsat3   0.522719  0.452579  0.542937  0.622223  0.825879  0.493042\nsat4   0.584768  0.461389  0.497677  0.608267  0.817525  0.604367\nloy1   0.569637  0.456599  0.555455  0.651688  0.663799  0.906587\nloy2   0.409706  0.306132  0.378045  0.403192  0.398968  0.671101\nloy3   0.572424  0.476182  0.592181  0.646973  0.656905  0.904974\nloy4   0.374463  0.222617  0.339639  0.432992  0.344227  0.681874",
      "text/html": "<div>\n<style scoped>\n    .dataframe tbody tr th:only-of-type {\n        vertical-align: middle;\n    }\n\n    .dataframe tbody tr th {\n        vertical-align: top;\n    }\n\n    .dataframe thead th {\n        text-align: right;\n    }\n</style>\n<table border=\"1\" class=\"dataframe\">\n  <thead>\n    <tr style=\"text-align: right;\">\n      <th></th>\n      <th>IMAG</th>\n      <th>EXPE</th>\n      <th>QUAL</th>\n      <th>VAL</th>\n      <th>SAT</th>\n      <th>LOY</th>\n    </tr>\n  </thead>\n  <tbody>\n    <tr>\n      <td>imag1</td>\n      <td>0.709327</td>\n      <td>0.313711</td>\n      <td>0.312979</td>\n      <td>0.424831</td>\n      <td>0.394306</td>\n      <td>0.397233</td>\n    </tr>\n    <tr>\n      <td>imag2</td>\n      <td>0.877308</td>\n      <td>0.480405</td>\n      <td>0.533504</td>\n      <td>0.608117</td>\n      <td>0.597196</td>\n      <td>0.543674</td>\n    </tr>\n    <tr>\n      <td>imag3</td>\n      <td>0.841749</td>\n      <td>0.477454</td>\n      <td>0.515335</td>\n      <td>0.662712</td>\n      <td>0.645650</td>\n      <td>0.555347</td>\n    </tr>\n    <tr>\n      <td>imag4</td>\n      <td>0.569193</td>\n      <td>0.270305</td>\n      <td>0.313187</td>\n      <td>0.405621</td>\n      <td>0.345706</td>\n      <td>0.347140</td>\n    </tr>\n    <tr>\n      <td>imag5</td>\n      <td>0.778467</td>\n      <td>0.532220</td>\n      <td>0.589458</td>\n      <td>0.538946</td>\n      <td>0.555712</td>\n      <td>0.474396</td>\n    </tr>\n    <tr>\n      <td>expe1</td>\n      <td>0.401794</td>\n      <td>0.765801</td>\n      <td>0.631276</td>\n      <td>0.499776</td>\n      <td>0.462934</td>\n      <td>0.362549</td>\n    </tr>\n    <tr>\n      <td>expe2</td>\n      <td>0.510655</td>\n      <td>0.837419</td>\n      <td>0.748941</td>\n      <td>0.590513</td>\n      <td>0.546955</td>\n      <td>0.420130</td>\n    </tr>\n    <tr>\n      <td>expe3</td>\n      <td>0.406133</td>\n      <td>0.759821</td>\n      <td>0.626942</td>\n      <td>0.478565</td>\n      <td>0.414613</td>\n      <td>0.322962</td>\n    </tr>\n    <tr>\n      <td>expe4</td>\n      <td>0.491702</td>\n      <td>0.718345</td>\n      <td>0.620523</td>\n      <td>0.560969</td>\n      <td>0.509099</td>\n      <td>0.445662</td>\n    </tr>\n    <tr>\n      <td>expe5</td>\n      <td>0.476073</td>\n      <td>0.837276</td>\n      <td>0.694522</td>\n      <td>0.555582</td>\n      <td>0.506937</td>\n      <td>0.385870</td>\n    </tr>\n    <tr>\n      <td>qual1</td>\n      <td>0.460634</td>\n      <td>0.684603</td>\n      <td>0.781469</td>\n      <td>0.597792</td>\n      <td>0.554319</td>\n      <td>0.503971</td>\n    </tr>\n    <tr>\n      <td>qual2</td>\n      <td>0.551699</td>\n      <td>0.745640</td>\n      <td>0.881558</td>\n      <td>0.687295</td>\n      <td>0.629327</td>\n      <td>0.528263</td>\n    </tr>\n    <tr>\n      <td>qual3</td>\n      <td>0.444622</td>\n      <td>0.665559</td>\n      <td>0.794076</td>\n      <td>0.580125</td>\n      <td>0.501386</td>\n      <td>0.378753</td>\n    </tr>\n    <tr>\n      <td>qual4</td>\n      <td>0.631980</td>\n      <td>0.625522</td>\n      <td>0.788982</td>\n      <td>0.635332</td>\n      <td>0.591831</td>\n      <td>0.604012</td>\n    </tr>\n    <tr>\n      <td>qual5</td>\n      <td>0.523643</td>\n      <td>0.708375</td>\n      <td>0.807447</td>\n      <td>0.614471</td>\n      <td>0.570592</td>\n      <td>0.508369</td>\n    </tr>\n    <tr>\n      <td>val1</td>\n      <td>0.628275</td>\n      <td>0.662848</td>\n      <td>0.713268</td>\n      <td>0.864822</td>\n      <td>0.750301</td>\n      <td>0.591288</td>\n    </tr>\n    <tr>\n      <td>val2</td>\n      <td>0.509941</td>\n      <td>0.472659</td>\n      <td>0.554378</td>\n      <td>0.796239</td>\n      <td>0.676131</td>\n      <td>0.573890</td>\n    </tr>\n    <tr>\n      <td>val3</td>\n      <td>0.484928</td>\n      <td>0.431812</td>\n      <td>0.514394</td>\n      <td>0.750065</td>\n      <td>0.540378</td>\n      <td>0.483895</td>\n    </tr>\n    <tr>\n      <td>val4</td>\n      <td>0.636837</td>\n      <td>0.590616</td>\n      <td>0.669137</td>\n      <td>0.844483</td>\n      <td>0.696056</td>\n      <td>0.607207</td>\n    </tr>\n    <tr>\n      <td>sat1</td>\n      <td>0.647837</td>\n      <td>0.585366</td>\n      <td>0.653964</td>\n      <td>0.804714</td>\n      <td>0.919798</td>\n      <td>0.671693</td>\n    </tr>\n    <tr>\n      <td>sat2</td>\n      <td>0.641657</td>\n      <td>0.623323</td>\n      <td>0.711169</td>\n      <td>0.795433</td>\n      <td>0.916030</td>\n      <td>0.602468</td>\n    </tr>\n    <tr>\n      <td>sat3</td>\n      <td>0.522719</td>\n      <td>0.452579</td>\n      <td>0.542937</td>\n      <td>0.622223</td>\n      <td>0.825879</td>\n      <td>0.493042</td>\n    </tr>\n    <tr>\n      <td>sat4</td>\n      <td>0.584768</td>\n      <td>0.461389</td>\n      <td>0.497677</td>\n      <td>0.608267</td>\n      <td>0.817525</td>\n      <td>0.604367</td>\n    </tr>\n    <tr>\n      <td>loy1</td>\n      <td>0.569637</td>\n      <td>0.456599</td>\n      <td>0.555455</td>\n      <td>0.651688</td>\n      <td>0.663799</td>\n      <td>0.906587</td>\n    </tr>\n    <tr>\n      <td>loy2</td>\n      <td>0.409706</td>\n      <td>0.306132</td>\n      <td>0.378045</td>\n      <td>0.403192</td>\n      <td>0.398968</td>\n      <td>0.671101</td>\n    </tr>\n    <tr>\n      <td>loy3</td>\n      <td>0.572424</td>\n      <td>0.476182</td>\n      <td>0.592181</td>\n      <td>0.646973</td>\n      <td>0.656905</td>\n      <td>0.904974</td>\n    </tr>\n    <tr>\n      <td>loy4</td>\n      <td>0.374463</td>\n      <td>0.222617</td>\n      <td>0.339639</td>\n      <td>0.432992</td>\n      <td>0.344227</td>\n      <td>0.681874</td>\n    </tr>\n  </tbody>\n</table>\n</div>"
     },
     "metadata": {},
     "output_type": "execute_result",
     "execution_count": 30
    }
   ],
   "source": [
    "# 판별타당도 평가\n",
    "plspm_calc.crossloadings()\n",
    "\n"
   ],
   "metadata": {
    "collapsed": false,
    "pycharm": {
     "name": "#%%\n",
     "is_executing": false
    }
   }
  },
  {
   "cell_type": "code",
   "execution_count": 36,
   "outputs": [],
   "source": [
    "plspm_scores = plspm_calc.scores()"
   ],
   "metadata": {
    "collapsed": false,
    "pycharm": {
     "name": "#%%\n",
     "is_executing": false
    }
   }
  },
  {
   "cell_type": "code",
   "execution_count": 37,
   "outputs": [
    {
     "data": {
      "text/plain": "pandas.core.frame.DataFrame"
     },
     "metadata": {},
     "output_type": "execute_result",
     "execution_count": 37
    }
   ],
   "source": [
    "type(plspm_scores)"
   ],
   "metadata": {
    "collapsed": false,
    "pycharm": {
     "name": "#%%\n",
     "is_executing": false
    }
   }
  },
  {
   "cell_type": "code",
   "execution_count": 50,
   "outputs": [],
   "source": [
    "plspm_corr = plspm_scores.corr(method=\"pearson\")"
   ],
   "metadata": {
    "collapsed": false,
    "pycharm": {
     "name": "#%%\n",
     "is_executing": false
    }
   }
  },
  {
   "cell_type": "code",
   "execution_count": 47,
   "outputs": [],
   "source": [
    "import numpy as np"
   ],
   "metadata": {
    "collapsed": false,
    "pycharm": {
     "name": "#%%\n",
     "is_executing": false
    }
   }
  },
  {
   "cell_type": "code",
   "execution_count": 48,
   "outputs": [],
   "source": [
    "plspm_calc.inner_summary()['SQRT_AVE'] = np.sqrt(plspm_calc.inner_summary()['ave'])"
   ],
   "metadata": {
    "collapsed": false,
    "pycharm": {
     "name": "#%%\n",
     "is_executing": false
    }
   }
  },
  {
   "cell_type": "code",
   "execution_count": 49,
   "outputs": [
    {
     "data": {
      "text/plain": "            type  r_squared  block_communality  mean_redundancy       ave  \\\nEXPE  Endogenous   0.335194           0.616420         0.206620  0.616420   \nIMAG   Exogenous   0.000000           0.582269         0.000000  0.582269   \nLOY   Endogenous   0.509923           0.639052         0.325867  0.639052   \nQUAL  Endogenous   0.719688           0.658572         0.473966  0.658572   \nSAT   Endogenous   0.707321           0.758891         0.536779  0.758891   \nVAL   Endogenous   0.590084           0.664416         0.392061  0.664416   \n\n      SQRT_AVE  \nEXPE  0.785124  \nIMAG  0.763066  \nLOY   0.799407  \nQUAL  0.811524  \nSAT   0.871143  \nVAL   0.815117  ",
      "text/html": "<div>\n<style scoped>\n    .dataframe tbody tr th:only-of-type {\n        vertical-align: middle;\n    }\n\n    .dataframe tbody tr th {\n        vertical-align: top;\n    }\n\n    .dataframe thead th {\n        text-align: right;\n    }\n</style>\n<table border=\"1\" class=\"dataframe\">\n  <thead>\n    <tr style=\"text-align: right;\">\n      <th></th>\n      <th>type</th>\n      <th>r_squared</th>\n      <th>block_communality</th>\n      <th>mean_redundancy</th>\n      <th>ave</th>\n      <th>SQRT_AVE</th>\n    </tr>\n  </thead>\n  <tbody>\n    <tr>\n      <td>EXPE</td>\n      <td>Endogenous</td>\n      <td>0.335194</td>\n      <td>0.616420</td>\n      <td>0.206620</td>\n      <td>0.616420</td>\n      <td>0.785124</td>\n    </tr>\n    <tr>\n      <td>IMAG</td>\n      <td>Exogenous</td>\n      <td>0.000000</td>\n      <td>0.582269</td>\n      <td>0.000000</td>\n      <td>0.582269</td>\n      <td>0.763066</td>\n    </tr>\n    <tr>\n      <td>LOY</td>\n      <td>Endogenous</td>\n      <td>0.509923</td>\n      <td>0.639052</td>\n      <td>0.325867</td>\n      <td>0.639052</td>\n      <td>0.799407</td>\n    </tr>\n    <tr>\n      <td>QUAL</td>\n      <td>Endogenous</td>\n      <td>0.719688</td>\n      <td>0.658572</td>\n      <td>0.473966</td>\n      <td>0.658572</td>\n      <td>0.811524</td>\n    </tr>\n    <tr>\n      <td>SAT</td>\n      <td>Endogenous</td>\n      <td>0.707321</td>\n      <td>0.758891</td>\n      <td>0.536779</td>\n      <td>0.758891</td>\n      <td>0.871143</td>\n    </tr>\n    <tr>\n      <td>VAL</td>\n      <td>Endogenous</td>\n      <td>0.590084</td>\n      <td>0.664416</td>\n      <td>0.392061</td>\n      <td>0.664416</td>\n      <td>0.815117</td>\n    </tr>\n  </tbody>\n</table>\n</div>"
     },
     "metadata": {},
     "output_type": "execute_result",
     "execution_count": 49
    }
   ],
   "source": [
    "plspm_calc.inner_summary()"
   ],
   "metadata": {
    "collapsed": false,
    "pycharm": {
     "name": "#%%\n",
     "is_executing": false
    }
   }
  },
  {
   "cell_type": "code",
   "execution_count": 51,
   "outputs": [
    {
     "data": {
      "text/plain": "          IMAG      EXPE      QUAL       VAL       SAT       LOY\nIMAG  1.000000  0.578959  0.633731  0.705184  0.692123  0.618082\nEXPE  0.578959  1.000000  0.848344  0.679515  0.617537  0.484972\nQUAL  0.633731  0.848344  1.000000  0.766137  0.698521  0.609061\nVAL   0.705184  0.679515  0.766137  1.000000  0.822586  0.693609\nSAT   0.692123  0.617537  0.698521  0.822586  1.000000  0.685917\nLOY   0.618082  0.484972  0.609061  0.693609  0.685917  1.000000",
      "text/html": "<div>\n<style scoped>\n    .dataframe tbody tr th:only-of-type {\n        vertical-align: middle;\n    }\n\n    .dataframe tbody tr th {\n        vertical-align: top;\n    }\n\n    .dataframe thead th {\n        text-align: right;\n    }\n</style>\n<table border=\"1\" class=\"dataframe\">\n  <thead>\n    <tr style=\"text-align: right;\">\n      <th></th>\n      <th>IMAG</th>\n      <th>EXPE</th>\n      <th>QUAL</th>\n      <th>VAL</th>\n      <th>SAT</th>\n      <th>LOY</th>\n    </tr>\n  </thead>\n  <tbody>\n    <tr>\n      <td>IMAG</td>\n      <td>1.000000</td>\n      <td>0.578959</td>\n      <td>0.633731</td>\n      <td>0.705184</td>\n      <td>0.692123</td>\n      <td>0.618082</td>\n    </tr>\n    <tr>\n      <td>EXPE</td>\n      <td>0.578959</td>\n      <td>1.000000</td>\n      <td>0.848344</td>\n      <td>0.679515</td>\n      <td>0.617537</td>\n      <td>0.484972</td>\n    </tr>\n    <tr>\n      <td>QUAL</td>\n      <td>0.633731</td>\n      <td>0.848344</td>\n      <td>1.000000</td>\n      <td>0.766137</td>\n      <td>0.698521</td>\n      <td>0.609061</td>\n    </tr>\n    <tr>\n      <td>VAL</td>\n      <td>0.705184</td>\n      <td>0.679515</td>\n      <td>0.766137</td>\n      <td>1.000000</td>\n      <td>0.822586</td>\n      <td>0.693609</td>\n    </tr>\n    <tr>\n      <td>SAT</td>\n      <td>0.692123</td>\n      <td>0.617537</td>\n      <td>0.698521</td>\n      <td>0.822586</td>\n      <td>1.000000</td>\n      <td>0.685917</td>\n    </tr>\n    <tr>\n      <td>LOY</td>\n      <td>0.618082</td>\n      <td>0.484972</td>\n      <td>0.609061</td>\n      <td>0.693609</td>\n      <td>0.685917</td>\n      <td>1.000000</td>\n    </tr>\n  </tbody>\n</table>\n</div>"
     },
     "metadata": {},
     "output_type": "execute_result",
     "execution_count": 51
    }
   ],
   "source": [
    "plspm_corr"
   ],
   "metadata": {
    "collapsed": false,
    "pycharm": {
     "name": "#%%\n",
     "is_executing": false
    }
   }
  },
  {
   "cell_type": "code",
   "execution_count": 53,
   "outputs": [
    {
     "data": {
      "text/plain": "          IMAG      EXPE      QUAL       VAL       SAT       LOY  SQRT_AVE\nIMAG  1.000000  0.578959  0.633731  0.705184  0.692123  0.618082  0.763066\nEXPE  0.578959  1.000000  0.848344  0.679515  0.617537  0.484972  0.785124\nQUAL  0.633731  0.848344  1.000000  0.766137  0.698521  0.609061  0.811524\nVAL   0.705184  0.679515  0.766137  1.000000  0.822586  0.693609  0.815117\nSAT   0.692123  0.617537  0.698521  0.822586  1.000000  0.685917  0.871143\nLOY   0.618082  0.484972  0.609061  0.693609  0.685917  1.000000  0.799407",
      "text/html": "<div>\n<style scoped>\n    .dataframe tbody tr th:only-of-type {\n        vertical-align: middle;\n    }\n\n    .dataframe tbody tr th {\n        vertical-align: top;\n    }\n\n    .dataframe thead th {\n        text-align: right;\n    }\n</style>\n<table border=\"1\" class=\"dataframe\">\n  <thead>\n    <tr style=\"text-align: right;\">\n      <th></th>\n      <th>IMAG</th>\n      <th>EXPE</th>\n      <th>QUAL</th>\n      <th>VAL</th>\n      <th>SAT</th>\n      <th>LOY</th>\n      <th>SQRT_AVE</th>\n    </tr>\n  </thead>\n  <tbody>\n    <tr>\n      <td>IMAG</td>\n      <td>1.000000</td>\n      <td>0.578959</td>\n      <td>0.633731</td>\n      <td>0.705184</td>\n      <td>0.692123</td>\n      <td>0.618082</td>\n      <td>0.763066</td>\n    </tr>\n    <tr>\n      <td>EXPE</td>\n      <td>0.578959</td>\n      <td>1.000000</td>\n      <td>0.848344</td>\n      <td>0.679515</td>\n      <td>0.617537</td>\n      <td>0.484972</td>\n      <td>0.785124</td>\n    </tr>\n    <tr>\n      <td>QUAL</td>\n      <td>0.633731</td>\n      <td>0.848344</td>\n      <td>1.000000</td>\n      <td>0.766137</td>\n      <td>0.698521</td>\n      <td>0.609061</td>\n      <td>0.811524</td>\n    </tr>\n    <tr>\n      <td>VAL</td>\n      <td>0.705184</td>\n      <td>0.679515</td>\n      <td>0.766137</td>\n      <td>1.000000</td>\n      <td>0.822586</td>\n      <td>0.693609</td>\n      <td>0.815117</td>\n    </tr>\n    <tr>\n      <td>SAT</td>\n      <td>0.692123</td>\n      <td>0.617537</td>\n      <td>0.698521</td>\n      <td>0.822586</td>\n      <td>1.000000</td>\n      <td>0.685917</td>\n      <td>0.871143</td>\n    </tr>\n    <tr>\n      <td>LOY</td>\n      <td>0.618082</td>\n      <td>0.484972</td>\n      <td>0.609061</td>\n      <td>0.693609</td>\n      <td>0.685917</td>\n      <td>1.000000</td>\n      <td>0.799407</td>\n    </tr>\n  </tbody>\n</table>\n</div>"
     },
     "metadata": {},
     "output_type": "execute_result",
     "execution_count": 53
    }
   ],
   "source": [
    "pd.merge(plspm_corr,plspm_calc.inner_summary()['SQRT_AVE'],left_index=True,right_index=True)"
   ],
   "metadata": {
    "collapsed": false,
    "pycharm": {
     "name": "#%%\n",
     "is_executing": false
    }
   }
  },
  {
   "cell_type": "code",
   "execution_count": null,
   "outputs": [],
   "source": [
    "\n"
   ],
   "metadata": {
    "collapsed": false,
    "pycharm": {
     "name": "#%%\n"
    }
   }
  }
 ],
 "metadata": {
  "kernelspec": {
   "display_name": "Python 3",
   "language": "python",
   "name": "python3"
  },
  "language_info": {
   "codemirror_mode": {
    "name": "ipython",
    "version": 2
   },
   "file_extension": ".py",
   "mimetype": "text/x-python",
   "name": "python",
   "nbconvert_exporter": "python",
   "pygments_lexer": "ipython2",
   "version": "2.7.6"
  },
  "pycharm": {
   "stem_cell": {
    "cell_type": "raw",
    "source": [],
    "metadata": {
     "collapsed": false
    }
   }
  }
 },
 "nbformat": 4,
 "nbformat_minor": 0
}